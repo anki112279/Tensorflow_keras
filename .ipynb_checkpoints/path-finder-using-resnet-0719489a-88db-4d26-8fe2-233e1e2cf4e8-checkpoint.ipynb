{
 "cells": [
  {
   "cell_type": "code",
   "execution_count": 26,
   "metadata": {},
   "outputs": [
    {
     "name": "stdout",
     "output_type": "stream",
     "text": [
      "Downloading petfinder-pawpularity-score, 1030728211 bytes zipped\n",
      "[==================================================] 1030728211 bytes downloaded\n",
      "Unzipping petfinder-pawpularity-score\n",
      "Dataset import complete.\n"
     ]
    }
   ],
   "source": [
    "\n",
    "# IMPORTANT: RUN THIS CELL IN ORDER TO IMPORT YOUR KAGGLE DATASETS\n",
    "# TO THE CORRECT LOCATION (/kaggle/input) IN YOUR NOTEBOOK,\n",
    "# THEN FEEL FREE TO DELETE CELL.\n",
    "\n",
    "import os\n",
    "import sys\n",
    "from tempfile import NamedTemporaryFile\n",
    "from urllib.request import urlopen\n",
    "from urllib.parse import unquote\n",
    "from urllib.error import HTTPError\n",
    "from zipfile import ZipFile\n",
    "\n",
    "CHUNK_SIZE = 40960\n",
    "DATASET_MAPPING = 'petfinder-pawpularity-score:https%3A%2F%2Fstorage.googleapis.com%2Fkaggle-competitions-data%2Fkaggle-v2%2F25383%2F2684322%2Fbundle%2Farchive.zip%3FX-Goog-Algorithm%3DGOOG4-RSA-SHA256%26X-Goog-Credential%3Dgcp-kaggle-com%2540kaggle-161607.iam.gserviceaccount.com%252F20211012%252Fauto%252Fstorage%252Fgoog4_request%26X-Goog-Date%3D20211012T175202Z%26X-Goog-Expires%3D259199%26X-Goog-SignedHeaders%3Dhost%26X-Goog-Signature%3D7fd2f02d52ef6a775d61f73941d1b0f46786f2e7b747dfb1a149c993d445d638ac00f56fb8451b1bf6023877a436c1c1dbcd9ae20b58d598c699688e3a362e6c666eafcd315c76cbe5fb2f7ff500bf36a1e36c4460a26462a607df469a60f0fa81ce359a022f11e0f648e015b1c28189ac45adf53c723ebae975a4bcad28056621e6c1c2b643cc97dfcd96d3fe8b090cc0e3985305404bd828c9e5578ca871e556409063fcf54f16ad4f96b73c4aa5e4b5249a4d2af18ebe1ade64bff627c22c600d59f065ee524d8c8cb65f2cbd52cbc05a8aea1333b4992e6aea74ae0dd3bd03d1702f732cf6f81dfc9c9b1a837dca3743a3ef7f83a059b7d00ee2ce874a2d'\n",
    "KAGGLE_INPUT_PATH='/home/kaggle/input'\n",
    "KAGGLE_INPUT_SYMLINK='/kaggle'\n",
    "\n",
    "#os.makedirs(KAGGLE_INPUT_PATH, 777)\n",
    "#os.symlink(KAGGLE_INPUT_PATH, os.path.join('..', 'input'), target_is_directory=True)\n",
    "os.makedirs(KAGGLE_INPUT_SYMLINK)\n",
    "os.symlink(KAGGLE_INPUT_PATH, os.path.join(KAGGLE_INPUT_SYMLINK, 'input'), target_is_directory=True)\n",
    "\n",
    "for dataset_mapping in DATASET_MAPPING.split(','):\n",
    "    directory, download_url_encoded = dataset_mapping.split(':')\n",
    "    download_url = unquote(download_url_encoded)\n",
    "    destination_path = os.path.join(KAGGLE_INPUT_PATH, directory)\n",
    "    try:\n",
    "        with urlopen(download_url) as zipfileres, NamedTemporaryFile() as tfile:\n",
    "            total_length = zipfileres.headers['content-length']\n",
    "            print(f'Downloading {directory}, {total_length} bytes zipped')\n",
    "            dl = 0\n",
    "            data = zipfileres.read(CHUNK_SIZE)\n",
    "            while len(data) > 0:\n",
    "                dl += len(data)\n",
    "                tfile.write(data)\n",
    "                done = int(50 * dl / int(total_length))\n",
    "                sys.stdout.write(f\"\\r[{'=' * done}{' ' * (50-done)}] {dl} bytes downloaded\")\n",
    "                sys.stdout.flush()\n",
    "                data = zipfileres.read(CHUNK_SIZE)\n",
    "            print(f'\\nUnzipping {directory}')\n",
    "            with ZipFile(tfile) as zfile:\n",
    "                zfile.extractall(destination_path)\n",
    "    except HTTPError as e:\n",
    "        print(f'Failed to load (likely expired) {download_url} to path {destination_path}')\n",
    "        continue\n",
    "    except OSError as e:\n",
    "        print(f'Failed to load {download_url} to path {destination_path}')\n",
    "        continue\n",
    "print('Dataset import complete.')\n"
   ]
  },
  {
   "cell_type": "code",
   "execution_count": 27,
   "metadata": {
    "_cell_guid": "b1076dfc-b9ad-4769-8c92-a6c4dae69d19",
    "_uuid": "8f2839f25d086af736a60e9eeb907d3b93b6e0e5"
   },
   "outputs": [],
   "source": [
    "# This Python 3 environment comes with many helpful analytics libraries installed\n",
    "# It is defined by the kaggle/python Docker image: https://github.com/kaggle/docker-python\n",
    "# For example, here's several helpful packages to load\n",
    "\n",
    "import numpy as np # linear algebra\n",
    "import pandas as pd # data processing, CSV file I/O (e.g. pd.read_csv)\n",
    "\n",
    "# Input data files are available in the read-only \"../input/\" directory\n",
    "# For example, running this (by clicking run or pressing Shift+Enter) will list all files under the input directory\n",
    "\n",
    "import os, shutil\n",
    "from tensorflow import keras\n",
    "from tensorflow.keras import layers\n",
    "from tensorflow.keras import utils\n",
    "import matplotlib.pyplot as plt\n",
    "from tensorflow.keras import optimizers\n",
    "from tensorflow.keras.preprocessing.image import ImageDataGenerator\n",
    "import matplotlib.image as mpimg\n",
    "# for dirname, _, filenames in os.walk('/kaggle/input'):\n",
    "#     for filename in filenames:\n",
    "#         #print(os.path.join(dirname, filename))\n",
    "\n",
    "# You can write up to 20GB to the current directory (/kaggle/working/) that gets preserved as output when you create a version using \"Save & Run All\" \n",
    "# You can also write temporary files to /kaggle/temp/, but they won't be saved outside of the current session"
   ]
  },
  {
   "cell_type": "code",
   "execution_count": 28,
   "metadata": {},
   "outputs": [],
   "source": [
    "#Create directory to separate train and validation images\n",
    "original_dataset_dir = '/kaggle/input/petfinder-pawpularity-score/'\n",
    "base_dir = '/kaggle/petfinder-pawpularity-score-small/'\n",
    "os.mkdir(base_dir)\n"
   ]
  },
  {
   "cell_type": "code",
   "execution_count": 29,
   "metadata": {},
   "outputs": [],
   "source": [
    "#Creating train,test and validation directory\n",
    "train_dir = os.path.join(base_dir, 'train')\n",
    "os.mkdir(train_dir)\n",
    "validation_dir = os.path.join(base_dir, 'validation')\n",
    "os.mkdir(validation_dir)\n",
    "test_dir = os.path.join(base_dir, 'test')\n",
    "os.mkdir(test_dir)"
   ]
  },
  {
   "cell_type": "code",
   "execution_count": 30,
   "metadata": {},
   "outputs": [],
   "source": [
    "#Reading score file\n",
    "csv_path = os.path.join(original_dataset_dir , 'train.csv')\n",
    "df_score = pd.read_csv(csv_path)"
   ]
  },
  {
   "cell_type": "code",
   "execution_count": 31,
   "metadata": {},
   "outputs": [
    {
     "data": {
      "text/html": [
       "<div>\n",
       "<style scoped>\n",
       "    .dataframe tbody tr th:only-of-type {\n",
       "        vertical-align: middle;\n",
       "    }\n",
       "\n",
       "    .dataframe tbody tr th {\n",
       "        vertical-align: top;\n",
       "    }\n",
       "\n",
       "    .dataframe thead th {\n",
       "        text-align: right;\n",
       "    }\n",
       "</style>\n",
       "<table border=\"1\" class=\"dataframe\">\n",
       "  <thead>\n",
       "    <tr style=\"text-align: right;\">\n",
       "      <th></th>\n",
       "      <th>Id</th>\n",
       "      <th>Subject Focus</th>\n",
       "      <th>Eyes</th>\n",
       "      <th>Face</th>\n",
       "      <th>Near</th>\n",
       "      <th>Action</th>\n",
       "      <th>Accessory</th>\n",
       "      <th>Group</th>\n",
       "      <th>Collage</th>\n",
       "      <th>Human</th>\n",
       "      <th>Occlusion</th>\n",
       "      <th>Info</th>\n",
       "      <th>Blur</th>\n",
       "      <th>Pawpularity</th>\n",
       "    </tr>\n",
       "  </thead>\n",
       "  <tbody>\n",
       "    <tr>\n",
       "      <th>0</th>\n",
       "      <td>0007de18844b0dbbb5e1f607da0606e0</td>\n",
       "      <td>0</td>\n",
       "      <td>1</td>\n",
       "      <td>1</td>\n",
       "      <td>1</td>\n",
       "      <td>0</td>\n",
       "      <td>0</td>\n",
       "      <td>1</td>\n",
       "      <td>0</td>\n",
       "      <td>0</td>\n",
       "      <td>0</td>\n",
       "      <td>0</td>\n",
       "      <td>0</td>\n",
       "      <td>63</td>\n",
       "    </tr>\n",
       "    <tr>\n",
       "      <th>1</th>\n",
       "      <td>0009c66b9439883ba2750fb825e1d7db</td>\n",
       "      <td>0</td>\n",
       "      <td>1</td>\n",
       "      <td>1</td>\n",
       "      <td>0</td>\n",
       "      <td>0</td>\n",
       "      <td>0</td>\n",
       "      <td>0</td>\n",
       "      <td>0</td>\n",
       "      <td>0</td>\n",
       "      <td>0</td>\n",
       "      <td>0</td>\n",
       "      <td>0</td>\n",
       "      <td>42</td>\n",
       "    </tr>\n",
       "    <tr>\n",
       "      <th>2</th>\n",
       "      <td>0013fd999caf9a3efe1352ca1b0d937e</td>\n",
       "      <td>0</td>\n",
       "      <td>1</td>\n",
       "      <td>1</td>\n",
       "      <td>1</td>\n",
       "      <td>0</td>\n",
       "      <td>0</td>\n",
       "      <td>0</td>\n",
       "      <td>0</td>\n",
       "      <td>1</td>\n",
       "      <td>1</td>\n",
       "      <td>0</td>\n",
       "      <td>0</td>\n",
       "      <td>28</td>\n",
       "    </tr>\n",
       "    <tr>\n",
       "      <th>3</th>\n",
       "      <td>0018df346ac9c1d8413cfcc888ca8246</td>\n",
       "      <td>0</td>\n",
       "      <td>1</td>\n",
       "      <td>1</td>\n",
       "      <td>1</td>\n",
       "      <td>0</td>\n",
       "      <td>0</td>\n",
       "      <td>0</td>\n",
       "      <td>0</td>\n",
       "      <td>0</td>\n",
       "      <td>0</td>\n",
       "      <td>0</td>\n",
       "      <td>0</td>\n",
       "      <td>15</td>\n",
       "    </tr>\n",
       "    <tr>\n",
       "      <th>4</th>\n",
       "      <td>001dc955e10590d3ca4673f034feeef2</td>\n",
       "      <td>0</td>\n",
       "      <td>0</td>\n",
       "      <td>0</td>\n",
       "      <td>1</td>\n",
       "      <td>0</td>\n",
       "      <td>0</td>\n",
       "      <td>1</td>\n",
       "      <td>0</td>\n",
       "      <td>0</td>\n",
       "      <td>0</td>\n",
       "      <td>0</td>\n",
       "      <td>0</td>\n",
       "      <td>72</td>\n",
       "    </tr>\n",
       "    <tr>\n",
       "      <th>5</th>\n",
       "      <td>001dd4f6fafb890610b1635f967ea081</td>\n",
       "      <td>0</td>\n",
       "      <td>0</td>\n",
       "      <td>1</td>\n",
       "      <td>0</td>\n",
       "      <td>0</td>\n",
       "      <td>0</td>\n",
       "      <td>0</td>\n",
       "      <td>0</td>\n",
       "      <td>0</td>\n",
       "      <td>0</td>\n",
       "      <td>0</td>\n",
       "      <td>1</td>\n",
       "      <td>74</td>\n",
       "    </tr>\n",
       "    <tr>\n",
       "      <th>6</th>\n",
       "      <td>0023b8a3abc93c712edd6120867deb53</td>\n",
       "      <td>0</td>\n",
       "      <td>1</td>\n",
       "      <td>1</td>\n",
       "      <td>1</td>\n",
       "      <td>0</td>\n",
       "      <td>0</td>\n",
       "      <td>0</td>\n",
       "      <td>0</td>\n",
       "      <td>1</td>\n",
       "      <td>1</td>\n",
       "      <td>0</td>\n",
       "      <td>0</td>\n",
       "      <td>22</td>\n",
       "    </tr>\n",
       "    <tr>\n",
       "      <th>7</th>\n",
       "      <td>0031d6a9ef7340f898c3e05f92c7bb04</td>\n",
       "      <td>0</td>\n",
       "      <td>1</td>\n",
       "      <td>1</td>\n",
       "      <td>0</td>\n",
       "      <td>0</td>\n",
       "      <td>0</td>\n",
       "      <td>1</td>\n",
       "      <td>1</td>\n",
       "      <td>0</td>\n",
       "      <td>0</td>\n",
       "      <td>1</td>\n",
       "      <td>0</td>\n",
       "      <td>35</td>\n",
       "    </tr>\n",
       "    <tr>\n",
       "      <th>8</th>\n",
       "      <td>0042bc5bada6d1cf8951f8f9f0d399fa</td>\n",
       "      <td>0</td>\n",
       "      <td>1</td>\n",
       "      <td>1</td>\n",
       "      <td>1</td>\n",
       "      <td>0</td>\n",
       "      <td>0</td>\n",
       "      <td>0</td>\n",
       "      <td>0</td>\n",
       "      <td>0</td>\n",
       "      <td>0</td>\n",
       "      <td>0</td>\n",
       "      <td>0</td>\n",
       "      <td>53</td>\n",
       "    </tr>\n",
       "    <tr>\n",
       "      <th>9</th>\n",
       "      <td>0049cb81313c94fa007286e9039af910</td>\n",
       "      <td>0</td>\n",
       "      <td>1</td>\n",
       "      <td>1</td>\n",
       "      <td>1</td>\n",
       "      <td>0</td>\n",
       "      <td>0</td>\n",
       "      <td>0</td>\n",
       "      <td>0</td>\n",
       "      <td>0</td>\n",
       "      <td>0</td>\n",
       "      <td>0</td>\n",
       "      <td>0</td>\n",
       "      <td>21</td>\n",
       "    </tr>\n",
       "  </tbody>\n",
       "</table>\n",
       "</div>"
      ],
      "text/plain": [
       "                                 Id  Subject Focus  Eyes  Face  Near  Action  \\\n",
       "0  0007de18844b0dbbb5e1f607da0606e0              0     1     1     1       0   \n",
       "1  0009c66b9439883ba2750fb825e1d7db              0     1     1     0       0   \n",
       "2  0013fd999caf9a3efe1352ca1b0d937e              0     1     1     1       0   \n",
       "3  0018df346ac9c1d8413cfcc888ca8246              0     1     1     1       0   \n",
       "4  001dc955e10590d3ca4673f034feeef2              0     0     0     1       0   \n",
       "5  001dd4f6fafb890610b1635f967ea081              0     0     1     0       0   \n",
       "6  0023b8a3abc93c712edd6120867deb53              0     1     1     1       0   \n",
       "7  0031d6a9ef7340f898c3e05f92c7bb04              0     1     1     0       0   \n",
       "8  0042bc5bada6d1cf8951f8f9f0d399fa              0     1     1     1       0   \n",
       "9  0049cb81313c94fa007286e9039af910              0     1     1     1       0   \n",
       "\n",
       "   Accessory  Group  Collage  Human  Occlusion  Info  Blur  Pawpularity  \n",
       "0          0      1        0      0          0     0     0           63  \n",
       "1          0      0        0      0          0     0     0           42  \n",
       "2          0      0        0      1          1     0     0           28  \n",
       "3          0      0        0      0          0     0     0           15  \n",
       "4          0      1        0      0          0     0     0           72  \n",
       "5          0      0        0      0          0     0     1           74  \n",
       "6          0      0        0      1          1     0     0           22  \n",
       "7          0      1        1      0          0     1     0           35  \n",
       "8          0      0        0      0          0     0     0           53  \n",
       "9          0      0        0      0          0     0     0           21  "
      ]
     },
     "execution_count": 31,
     "metadata": {},
     "output_type": "execute_result"
    }
   ],
   "source": [
    "#Reading first ten columns\n",
    "df_score.head(10)"
   ]
  },
  {
   "cell_type": "code",
   "execution_count": 32,
   "metadata": {},
   "outputs": [
    {
     "name": "stdout",
     "output_type": "stream",
     "text": [
      "/kaggle/input/petfinder-pawpularity-score/\n",
      "/kaggle/input/petfinder-pawpularity-score/train\n",
      "/kaggle/input/petfinder-pawpularity-score/test\n"
     ]
    }
   ],
   "source": [
    "for dirname, _, filenames in os.walk('/kaggle/input/petfinder-pawpularity-score/'):\n",
    "    print(dirname)"
   ]
  },
  {
   "cell_type": "code",
   "execution_count": 33,
   "metadata": {},
   "outputs": [],
   "source": [
    "def get_score_by_id(filename):\n",
    "    image_id = filename.split('.')[0]\n",
    "    if image_id is not None:\n",
    "        score = df_score[df_score['Id'] == image_id]['Pawpularity'].values[0]\n",
    "        return score"
   ]
  },
  {
   "cell_type": "code",
   "execution_count": 34,
   "metadata": {},
   "outputs": [],
   "source": [
    "#Creating cat dataset\n",
    "train_label = np.array([])\n",
    "validation_label = np.array([])\n",
    "for dirname, _, filenames in os.walk('/kaggle/input/petfinder-pawpularity-score/train'):\n",
    "    for i, fname in enumerate(filenames):\n",
    "        if i<1000:\n",
    "            src = os.path.join(dirname, fname)\n",
    "            dst = os.path.join(train_dir, fname)\n",
    "            shutil.copyfile(src, dst)\n",
    "            train_label = np.append(train_label, get_score_by_id(fname))\n",
    "        elif i>1000 and i<1100:\n",
    "            src = os.path.join(dirname, fname)\n",
    "            dst = os.path.join(validation_dir, fname)\n",
    "            shutil.copyfile(src, dst)\n",
    "            validation_label = np.append(validation_label, get_score_by_id(fname))\n",
    "        else:\n",
    "            pass"
   ]
  },
  {
   "cell_type": "code",
   "execution_count": 35,
   "metadata": {},
   "outputs": [
    {
     "name": "stdout",
     "output_type": "stream",
     "text": [
      "No of train images in train_dir  1000\n",
      "No of train images in validation_dir  99\n"
     ]
    }
   ],
   "source": [
    "print(\"No of train images in train_dir \", len(os.listdir(train_dir)))\n",
    "print(\"No of train images in validation_dir \", len(os.listdir(validation_dir)))"
   ]
  },
  {
   "cell_type": "code",
   "execution_count": 36,
   "metadata": {},
   "outputs": [
    {
     "name": "stdout",
     "output_type": "stream",
     "text": [
      "No of train labels in train_label  1000\n",
      "No of train labels in validation_label  99\n"
     ]
    }
   ],
   "source": [
    "print(\"No of train labels in train_label \",train_label.shape[0])\n",
    "print(\"No of train labels in validation_label \",validation_label.shape[0])\n"
   ]
  },
  {
   "cell_type": "code",
   "execution_count": 37,
   "metadata": {},
   "outputs": [
    {
     "name": "stdout",
     "output_type": "stream",
     "text": [
      "63\n"
     ]
    }
   ],
   "source": [
    "#test the function\n",
    "score = get_score_by_id('0007de18844b0dbbb5e1f607da0606e0.jpg')\n",
    "print(score)"
   ]
  },
  {
   "cell_type": "code",
   "execution_count": 38,
   "metadata": {},
   "outputs": [
    {
     "name": "stderr",
     "output_type": "stream",
     "text": [
      "\n",
      "User settings:\n",
      "\n",
      "   KMP_AFFINITY=granularity=fine,verbose,compact,1,0\n",
      "   KMP_BLOCKTIME=0\n",
      "   KMP_SETTINGS=1\n",
      "   KMP_WARNINGS=0\n",
      "\n",
      "Effective settings:\n",
      "\n",
      "   KMP_ABORT_DELAY=0\n",
      "   KMP_ADAPTIVE_LOCK_PROPS='1,1024'\n",
      "   KMP_ALIGN_ALLOC=64\n",
      "   KMP_ALL_THREADPRIVATE=128\n",
      "   KMP_ATOMIC_MODE=2\n",
      "   KMP_BLOCKTIME=0\n",
      "   KMP_CPUINFO_FILE: value is not defined\n",
      "   KMP_DETERMINISTIC_REDUCTION=false\n",
      "   KMP_DEVICE_THREAD_LIMIT=2147483647\n",
      "   KMP_DISP_NUM_BUFFERS=7\n",
      "   KMP_DUPLICATE_LIB_OK=false\n",
      "   KMP_ENABLE_TASK_THROTTLING=true\n",
      "   KMP_FORCE_REDUCTION: value is not defined\n",
      "   KMP_FOREIGN_THREADS_THREADPRIVATE=true\n",
      "   KMP_FORKJOIN_BARRIER='2,2'\n",
      "   KMP_FORKJOIN_BARRIER_PATTERN='hyper,hyper'\n",
      "   KMP_GTID_MODE=3\n",
      "   KMP_HANDLE_SIGNALS=false\n",
      "   KMP_HOT_TEAMS_MAX_LEVEL=1\n",
      "   KMP_HOT_TEAMS_MODE=0\n",
      "   KMP_INIT_AT_FORK=true\n",
      "   KMP_LIBRARY=throughput\n",
      "   KMP_LOCK_KIND=queuing\n",
      "   KMP_MALLOC_POOL_INCR=1M\n",
      "   KMP_NUM_LOCKS_IN_BLOCK=1\n",
      "   KMP_PLAIN_BARRIER='2,2'\n",
      "   KMP_PLAIN_BARRIER_PATTERN='hyper,hyper'\n",
      "   KMP_REDUCTION_BARRIER='1,1'\n",
      "   KMP_REDUCTION_BARRIER_PATTERN='hyper,hyper'\n",
      "   KMP_SCHEDULE='static,balanced;guided,iterative'\n",
      "   KMP_SETTINGS=true\n",
      "   KMP_SPIN_BACKOFF_PARAMS='4096,100'\n",
      "   KMP_STACKOFFSET=64\n",
      "   KMP_STACKPAD=0\n",
      "   KMP_STACKSIZE=8M\n",
      "   KMP_STORAGE_MAP=false\n",
      "   KMP_TASKING=2\n",
      "   KMP_TASKLOOP_MIN_TASKS=0\n",
      "   KMP_TASK_STEALING_CONSTRAINT=1\n",
      "   KMP_TEAMS_THREAD_LIMIT=4\n",
      "   KMP_TOPOLOGY_METHOD=all\n",
      "   KMP_USE_YIELD=1\n",
      "   KMP_VERSION=false\n",
      "   KMP_WARNINGS=false\n",
      "   OMP_AFFINITY_FORMAT='OMP: pid %P tid %i thread %n bound to OS proc set {%A}'\n",
      "   OMP_ALLOCATOR=omp_default_mem_alloc\n",
      "   OMP_CANCELLATION=false\n",
      "   OMP_DEFAULT_DEVICE=0\n",
      "   OMP_DISPLAY_AFFINITY=false\n",
      "   OMP_DISPLAY_ENV=false\n",
      "   OMP_DYNAMIC=false\n",
      "   OMP_MAX_ACTIVE_LEVELS=1\n",
      "   OMP_MAX_TASK_PRIORITY=0\n",
      "   OMP_NESTED: deprecated; max-active-levels-var=1\n",
      "   OMP_NUM_THREADS: value is not defined\n",
      "   OMP_PLACES: value is not defined\n",
      "   OMP_PROC_BIND='intel'\n",
      "   OMP_SCHEDULE='static'\n",
      "   OMP_STACKSIZE=8M\n",
      "   OMP_TARGET_OFFLOAD=DEFAULT\n",
      "   OMP_THREAD_LIMIT=2147483647\n",
      "   OMP_WAIT_POLICY=PASSIVE\n",
      "   KMP_AFFINITY='verbose,warnings,respect,granularity=fine,compact,1,0'\n",
      "\n",
      "2021-10-12 22:45:44.674572: I tensorflow/core/common_runtime/process_util.cc:146] Creating new thread pool with default inter op setting: 2. Tune using inter_op_parallelism_threads for best performance.\n"
     ]
    },
    {
     "name": "stdout",
     "output_type": "stream",
     "text": [
      "Downloading data from https://storage.googleapis.com/tensorflow/keras-applications/vgg16/vgg16_weights_tf_dim_ordering_tf_kernels_notop.h5\n",
      "58892288/58889256 [==============================] - 0s 0us/step\n",
      "58900480/58889256 [==============================] - 0s 0us/step\n"
     ]
    }
   ],
   "source": [
    "#Instatntied VGG16 model \n",
    "\n",
    "from tensorflow.keras.applications import VGG16\n",
    "conv_base = VGG16(weights='imagenet',\n",
    "include_top=False,\n",
    "input_shape=(150, 150, 3))"
   ]
  },
  {
   "cell_type": "code",
   "execution_count": 39,
   "metadata": {},
   "outputs": [],
   "source": [
    "# #Creating a convet model for an integer output\n",
    "# model = keras.Sequential(([\n",
    "#     layers.experimental.preprocessing.Resizing(150, 150),\n",
    "#     layers.experimental.preprocessing.Rescaling(1./255),\n",
    "#     layers.Conv2D(32, (3, 3), activation='relu', input_shape=(150, 150, 3)),\n",
    "#     layers.MaxPooling2D((2, 2)),\n",
    "#     layers.Conv2D(64, (3, 3), activation='relu'),\n",
    "#     layers.MaxPooling2D((2, 2)),\n",
    "#     layers.Conv2D(128, (3, 3), activation='relu'),\n",
    "#     layers.MaxPooling2D((2, 2)),\n",
    "#     layers.Conv2D(128, (3, 3), activation='relu'),\n",
    "#     layers.MaxPooling2D((2, 2)),\n",
    "#     layers.Flatten(), \n",
    "#     layers.Dense(512, activation = 'relu'), \n",
    "#     layers.Dense(1, activation = 'linear')\n",
    "# ]))"
   ]
  },
  {
   "cell_type": "code",
   "execution_count": null,
   "metadata": {},
   "outputs": [],
   "source": []
  },
  {
   "cell_type": "code",
   "execution_count": 72,
   "metadata": {},
   "outputs": [
    {
     "name": "stdout",
     "output_type": "stream",
     "text": [
      "train_data_np shape: (1000, 150, 150, 3)\n"
     ]
    }
   ],
   "source": [
    "import glob\n",
    "import cv2\n",
    "train_data_np = []\n",
    "files = glob.glob (train_dir+'/*')\n",
    "for myFile in files:\n",
    "    image = cv2.imread (myFile)\n",
    "    resized = cv2.resize(image, (150, 150), interpolation = cv2.INTER_AREA)\n",
    "    train_data_np.append(resized/255)\n",
    "train_data_np = np.array(train_data_np)\n",
    "print('train_data_np shape:', train_data_np.shape)"
   ]
  },
  {
   "cell_type": "code",
   "execution_count": 64,
   "metadata": {},
   "outputs": [
    {
     "name": "stdout",
     "output_type": "stream",
     "text": [
      "validation_data_np shape: (99, 150, 150, 3)\n"
     ]
    }
   ],
   "source": [
    "validation_data_np = []\n",
    "files = glob.glob (validation_dir+'/*')\n",
    "for myFile in files:\n",
    "    image = cv2.imread (myFile)\n",
    "    resized = cv2.resize(image, (150, 150), interpolation = cv2.INTER_AREA)\n",
    "    validation_data_np.append(resized/255)\n",
    "\n",
    "validation_data_np = np.array(validation_data_np)\n",
    "print('validation_data_np shape:', validation_data_np.shape)"
   ]
  },
  {
   "cell_type": "code",
   "execution_count": 75,
   "metadata": {},
   "outputs": [],
   "source": [
    "result_val = conv_base.predict(validation_data_np)"
   ]
  },
  {
   "cell_type": "code",
   "execution_count": 73,
   "metadata": {},
   "outputs": [],
   "source": [
    "result_train = conv_base.predict(train_data_np)"
   ]
  },
  {
   "cell_type": "code",
   "execution_count": 77,
   "metadata": {},
   "outputs": [
    {
     "data": {
      "text/plain": [
       "(99, 4, 4, 512)"
      ]
     },
     "execution_count": 77,
     "metadata": {},
     "output_type": "execute_result"
    }
   ],
   "source": [
    "result_val.shape"
   ]
  },
  {
   "cell_type": "code",
   "execution_count": null,
   "metadata": {},
   "outputs": [],
   "source": [
    "import matplotlib.pyplot as plt\n",
    "#plt.imshow(result.reshape((4,4), 150))\n",
    "result[0]"
   ]
  },
  {
   "cell_type": "code",
   "execution_count": 79,
   "metadata": {},
   "outputs": [],
   "source": [
    "train_features = np.reshape(result_train, (1000, 4 * 4 * 512))\n",
    "validation_features = np.reshape(result_val, (99, 4 * 4 * 512))"
   ]
  },
  {
   "cell_type": "code",
   "execution_count": 80,
   "metadata": {},
   "outputs": [],
   "source": [
    "model = keras.Sequential(([\n",
    "    layers.Dense(256, activation='relu', input_dim=4 * 4 * 512), \n",
    "    layers.Dropout(0.5),\n",
    "    layers.Dense(1, activation='linear')]))\n",
    "    "
   ]
  },
  {
   "cell_type": "code",
   "execution_count": 81,
   "metadata": {},
   "outputs": [],
   "source": [
    "model.compile(optimizer='rmsprop',\n",
    "    loss='mean_squared_error',\n",
    "    metrics=['mse'])"
   ]
  },
  {
   "cell_type": "code",
   "execution_count": 83,
   "metadata": {},
   "outputs": [
    {
     "name": "stdout",
     "output_type": "stream",
     "text": [
      "Epoch 1/50\n",
      "20/20 [==============================] - 1s 18ms/step - loss: 457.2036 - mse: 457.2036 - val_loss: 264.9324 - val_mse: 264.9324\n",
      "Epoch 2/50\n",
      "20/20 [==============================] - 0s 17ms/step - loss: 421.8845 - mse: 421.8845 - val_loss: 270.4639 - val_mse: 270.4639\n",
      "Epoch 3/50\n",
      "20/20 [==============================] - 0s 18ms/step - loss: 389.6973 - mse: 389.6973 - val_loss: 279.9494 - val_mse: 279.9494\n",
      "Epoch 4/50\n",
      "20/20 [==============================] - 0s 17ms/step - loss: 373.6454 - mse: 373.6454 - val_loss: 300.1469 - val_mse: 300.1469\n",
      "Epoch 5/50\n",
      "20/20 [==============================] - 0s 17ms/step - loss: 339.1667 - mse: 339.1667 - val_loss: 325.1229 - val_mse: 325.1229\n",
      "Epoch 6/50\n",
      "20/20 [==============================] - 0s 17ms/step - loss: 332.1790 - mse: 332.1790 - val_loss: 316.5133 - val_mse: 316.5133\n",
      "Epoch 7/50\n",
      "20/20 [==============================] - 0s 17ms/step - loss: 295.2277 - mse: 295.2277 - val_loss: 319.0078 - val_mse: 319.0078\n",
      "Epoch 8/50\n",
      "20/20 [==============================] - 0s 17ms/step - loss: 292.5646 - mse: 292.5646 - val_loss: 497.9775 - val_mse: 497.9775\n",
      "Epoch 9/50\n",
      "20/20 [==============================] - 0s 17ms/step - loss: 275.0676 - mse: 275.0676 - val_loss: 439.1841 - val_mse: 439.1841\n",
      "Epoch 10/50\n",
      "20/20 [==============================] - 0s 17ms/step - loss: 277.5614 - mse: 277.5614 - val_loss: 335.9068 - val_mse: 335.9068\n",
      "Epoch 11/50\n",
      "20/20 [==============================] - 0s 17ms/step - loss: 228.9635 - mse: 228.9635 - val_loss: 562.2717 - val_mse: 562.2717\n",
      "Epoch 12/50\n",
      "20/20 [==============================] - 0s 18ms/step - loss: 245.0952 - mse: 245.0952 - val_loss: 456.2233 - val_mse: 456.2233\n",
      "Epoch 13/50\n",
      "20/20 [==============================] - 0s 17ms/step - loss: 246.6950 - mse: 246.6950 - val_loss: 474.6570 - val_mse: 474.6570\n",
      "Epoch 14/50\n",
      "20/20 [==============================] - 0s 17ms/step - loss: 222.3506 - mse: 222.3506 - val_loss: 362.0314 - val_mse: 362.0314\n",
      "Epoch 15/50\n",
      "20/20 [==============================] - 0s 17ms/step - loss: 201.9873 - mse: 201.9873 - val_loss: 477.0629 - val_mse: 477.0629\n",
      "Epoch 16/50\n",
      "20/20 [==============================] - 0s 18ms/step - loss: 213.3262 - mse: 213.3262 - val_loss: 428.8864 - val_mse: 428.8864\n",
      "Epoch 17/50\n",
      "20/20 [==============================] - 0s 17ms/step - loss: 187.7183 - mse: 187.7183 - val_loss: 440.8283 - val_mse: 440.8283\n",
      "Epoch 18/50\n",
      "20/20 [==============================] - 0s 21ms/step - loss: 185.3903 - mse: 185.3903 - val_loss: 412.5136 - val_mse: 412.5136\n",
      "Epoch 19/50\n",
      "20/20 [==============================] - 0s 22ms/step - loss: 169.3947 - mse: 169.3947 - val_loss: 518.4886 - val_mse: 518.4886\n",
      "Epoch 20/50\n",
      "20/20 [==============================] - 0s 17ms/step - loss: 178.5756 - mse: 178.5756 - val_loss: 438.0270 - val_mse: 438.0270\n",
      "Epoch 21/50\n",
      "20/20 [==============================] - 0s 18ms/step - loss: 156.3237 - mse: 156.3237 - val_loss: 503.9331 - val_mse: 503.9331\n",
      "Epoch 22/50\n",
      "20/20 [==============================] - 0s 17ms/step - loss: 165.2095 - mse: 165.2095 - val_loss: 440.8298 - val_mse: 440.8298\n",
      "Epoch 23/50\n",
      "20/20 [==============================] - 0s 17ms/step - loss: 144.2081 - mse: 144.2081 - val_loss: 436.6043 - val_mse: 436.6043\n",
      "Epoch 24/50\n",
      "20/20 [==============================] - 0s 17ms/step - loss: 155.8186 - mse: 155.8186 - val_loss: 403.4021 - val_mse: 403.4021\n",
      "Epoch 25/50\n",
      "20/20 [==============================] - 0s 17ms/step - loss: 136.7371 - mse: 136.7371 - val_loss: 518.2642 - val_mse: 518.2642\n",
      "Epoch 26/50\n",
      "20/20 [==============================] - 0s 17ms/step - loss: 136.4330 - mse: 136.4330 - val_loss: 544.6713 - val_mse: 544.6713\n",
      "Epoch 27/50\n",
      "20/20 [==============================] - 0s 17ms/step - loss: 137.6530 - mse: 137.6529 - val_loss: 563.6583 - val_mse: 563.6583\n",
      "Epoch 28/50\n",
      "20/20 [==============================] - 0s 17ms/step - loss: 139.5267 - mse: 139.5267 - val_loss: 394.2436 - val_mse: 394.2436\n",
      "Epoch 29/50\n",
      "20/20 [==============================] - 0s 17ms/step - loss: 112.4717 - mse: 112.4717 - val_loss: 568.0237 - val_mse: 568.0237\n",
      "Epoch 30/50\n",
      "20/20 [==============================] - 0s 17ms/step - loss: 127.7744 - mse: 127.7744 - val_loss: 420.1121 - val_mse: 420.1121\n",
      "Epoch 31/50\n",
      "20/20 [==============================] - 0s 17ms/step - loss: 106.7740 - mse: 106.7740 - val_loss: 695.9402 - val_mse: 695.9402\n",
      "Epoch 32/50\n",
      "20/20 [==============================] - 0s 17ms/step - loss: 121.9568 - mse: 121.9568 - val_loss: 402.3544 - val_mse: 402.3544\n",
      "Epoch 33/50\n",
      "20/20 [==============================] - 0s 17ms/step - loss: 112.6570 - mse: 112.6570 - val_loss: 457.1737 - val_mse: 457.1737\n",
      "Epoch 34/50\n",
      "20/20 [==============================] - 0s 17ms/step - loss: 113.1550 - mse: 113.1550 - val_loss: 415.2057 - val_mse: 415.2057\n",
      "Epoch 35/50\n",
      "20/20 [==============================] - 0s 17ms/step - loss: 125.5936 - mse: 125.5936 - val_loss: 474.5039 - val_mse: 474.5039\n",
      "Epoch 36/50\n",
      "20/20 [==============================] - 0s 18ms/step - loss: 120.7493 - mse: 120.7493 - val_loss: 440.0617 - val_mse: 440.0617\n",
      "Epoch 37/50\n",
      "20/20 [==============================] - 0s 17ms/step - loss: 86.9065 - mse: 86.9065 - val_loss: 438.2230 - val_mse: 438.2230\n",
      "Epoch 38/50\n",
      "20/20 [==============================] - 0s 17ms/step - loss: 109.3763 - mse: 109.3763 - val_loss: 405.3964 - val_mse: 405.3964\n",
      "Epoch 39/50\n",
      "20/20 [==============================] - 0s 17ms/step - loss: 97.6494 - mse: 97.6494 - val_loss: 442.2998 - val_mse: 442.2998\n",
      "Epoch 40/50\n",
      "20/20 [==============================] - 0s 17ms/step - loss: 93.3010 - mse: 93.3010 - val_loss: 512.8144 - val_mse: 512.8144\n",
      "Epoch 41/50\n",
      "20/20 [==============================] - 0s 17ms/step - loss: 97.1264 - mse: 97.1264 - val_loss: 526.4106 - val_mse: 526.4106\n",
      "Epoch 42/50\n",
      "20/20 [==============================] - 0s 17ms/step - loss: 105.3614 - mse: 105.3614 - val_loss: 479.4810 - val_mse: 479.4810\n",
      "Epoch 43/50\n",
      "20/20 [==============================] - 0s 17ms/step - loss: 96.6299 - mse: 96.6299 - val_loss: 537.8199 - val_mse: 537.8199\n",
      "Epoch 44/50\n",
      "20/20 [==============================] - 0s 17ms/step - loss: 93.4716 - mse: 93.4716 - val_loss: 478.8939 - val_mse: 478.8939\n",
      "Epoch 45/50\n",
      "20/20 [==============================] - 0s 17ms/step - loss: 89.4330 - mse: 89.4330 - val_loss: 424.2011 - val_mse: 424.2011\n",
      "Epoch 46/50\n",
      "20/20 [==============================] - 0s 17ms/step - loss: 68.1126 - mse: 68.1126 - val_loss: 606.2309 - val_mse: 606.2309\n",
      "Epoch 47/50\n",
      "20/20 [==============================] - 0s 17ms/step - loss: 104.5564 - mse: 104.5564 - val_loss: 490.9130 - val_mse: 490.9130\n",
      "Epoch 48/50\n",
      "20/20 [==============================] - 0s 17ms/step - loss: 78.1500 - mse: 78.1500 - val_loss: 554.0192 - val_mse: 554.0193\n",
      "Epoch 49/50\n",
      "20/20 [==============================] - 0s 17ms/step - loss: 91.0960 - mse: 91.0960 - val_loss: 454.7226 - val_mse: 454.7226\n",
      "Epoch 50/50\n",
      "20/20 [==============================] - 0s 17ms/step - loss: 91.3782 - mse: 91.3782 - val_loss: 445.9041 - val_mse: 445.9041\n"
     ]
    }
   ],
   "source": [
    "history = model.fit(train_features, train_label, epochs=50, batch_size=50, validation_data=(validation_features, validation_label))"
   ]
  },
  {
   "cell_type": "code",
   "execution_count": 89,
   "metadata": {},
   "outputs": [
    {
     "data": {
      "image/png": "[encoded data removed]",
      "text/plain": [
       "<Figure size 432x288 with 1 Axes>"
      ]
     },
     "metadata": {
      "needs_background": "light"
     },
     "output_type": "display_data"
    },
    {
     "data": {
      "image/png": "[encoded data removed]",
      "text/plain": [
       "<Figure size 432x288 with 1 Axes>"
      ]
     },
     "metadata": {
      "needs_background": "light"
     },
     "output_type": "display_data"
    }
   ],
   "source": [
    "import matplotlib.pyplot as plt\n",
    "loss = history.history['loss']\n",
    "mse = history.history['mse']\n",
    "val_loss = history.history['val_loss']\n",
    "val_mse = history.history['val_mse']\n",
    "epochs = range(1, len(loss) + 1)\n",
    "plt.plot(epochs, loss, 'bo', label='Training loss')\n",
    "plt.plot(epochs, val_loss, 'b', label='Validation loss')\n",
    "plt.title('Training and validation loss')\n",
    "plt.legend()\n",
    "plt.figure()\n",
    "plt.plot(epochs, mse, 'bo', label='Training mse')\n",
    "plt.plot(epochs, val_mse, 'b', label='Validation mse')\n",
    "plt.title('Training and validation loss')\n",
    "plt.legend()\n",
    "plt.show()"
   ]
  },
  {
   "cell_type": "code",
   "execution_count": 85,
   "metadata": {},
   "outputs": [
    {
     "data": {
      "text/plain": [
       "dict_keys(['loss', 'mse', 'val_loss', 'val_mse'])"
      ]
     },
     "execution_count": 85,
     "metadata": {},
     "output_type": "execute_result"
    }
   ],
   "source": [
    "history.history.keys()"
   ]
  },
  {
   "cell_type": "code",
   "execution_count": null,
   "metadata": {},
   "outputs": [],
   "source": []
  }
 ],
 "metadata": {
  "kernelspec": {
   "display_name": "Python 3 (ipykernel)",
   "language": "python",
   "name": "python3"
  },
  "language_info": {
   "codemirror_mode": {
    "name": "ipython",
    "version": 3
   },
   "file_extension": ".py",
   "mimetype": "text/x-python",
   "name": "python",
   "nbconvert_exporter": "python",
   "pygments_lexer": "ipython3",
   "version": "3.7.10"
  }
 },
 "nbformat": 4,
 "nbformat_minor": 4
}
