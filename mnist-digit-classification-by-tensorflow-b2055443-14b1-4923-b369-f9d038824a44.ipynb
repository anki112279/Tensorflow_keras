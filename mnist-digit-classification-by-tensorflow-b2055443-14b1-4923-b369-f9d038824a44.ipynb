{
 "cells": [
  {
   "cell_type": "code",
   "execution_count": 4,
   "metadata": {
    "_cell_guid": "b1076dfc-b9ad-4769-8c92-a6c4dae69d19",
    "_uuid": "8f2839f25d086af736a60e9eeb907d3b93b6e0e5",
    "execution": {
     "iopub.execute_input": "2021-10-02T04:24:10.393964Z",
     "iopub.status.busy": "2021-10-02T04:24:10.393092Z",
     "iopub.status.idle": "2021-10-02T04:24:10.40071Z",
     "shell.execute_reply": "2021-10-02T04:24:10.399737Z",
     "shell.execute_reply.started": "2021-10-02T04:24:10.393926Z"
    }
   },
   "outputs": [
    {
     "name": "stderr",
     "output_type": "stream",
     "text": [
      "2021-10-05 16:40:04.809514: W tensorflow/stream_executor/platform/default/dso_loader.cc:60] Could not load dynamic library 'libcudart.so.11.0'; dlerror: libcudart.so.11.0: cannot open shared object file: No such file or directory; LD_LIBRARY_PATH: /opt/conda/lib\n",
      "2021-10-05 16:40:04.809567: I tensorflow/stream_executor/cuda/cudart_stub.cc:29] Ignore above cudart dlerror if you do not have a GPU set up on your machine.\n"
     ]
    }
   ],
   "source": [
    "# This Python 3 environment comes with many helpful analytics libraries installed\n",
    "# It is defined by the kaggle/python Docker image: https://github.com/kaggle/docker-python\n",
    "# For example, here's several helpful packages to load\n",
    "\n",
    "import numpy as np # linear algebra\n",
    "import pandas as pd # data processing, CSV file I/O (e.g. pd.read_csv)\n",
    "\n",
    "# Input data files are available in the read-only \"../input/\" directory\n",
    "# For example, running this (by clicking run or pressing Shift+Enter) will list all files under the input directory\n",
    "\n",
    "import os\n",
    "for dirname, _, filenames in os.walk('/kaggle/input'):\n",
    "    for filename in filenames:\n",
    "        print(os.path.join(dirname, filename))\n",
    "from tensorflow import keras\n",
    "from tensorflow.keras import layers\n",
    "from tensorflow.keras.datasets import mnist\n",
    "from tensorflow.keras.utils import to_categorical\n",
    "import matplotlib.pyplot as plt\n",
    "# You can write up to 20GB to the current directory (/kaggle/working/) that gets preserved as output when you create a version using \"Save & Run All\" \n",
    "# You can also write temporary files to /kaggle/temp/, but they won't be saved outside of the current session"
   ]
  },
  {
   "cell_type": "code",
   "execution_count": 5,
   "metadata": {
    "execution": {
     "iopub.execute_input": "2021-10-02T04:24:10.403411Z",
     "iopub.status.busy": "2021-10-02T04:24:10.40266Z",
     "iopub.status.idle": "2021-10-02T04:24:11.185531Z",
     "shell.execute_reply": "2021-10-02T04:24:11.184447Z",
     "shell.execute_reply.started": "2021-10-02T04:24:10.403377Z"
    }
   },
   "outputs": [],
   "source": [
    "(train_images, train_labels), (test_images, test_labels) = mnist.load_data()"
   ]
  },
  {
   "cell_type": "code",
   "execution_count": 6,
   "metadata": {
    "execution": {
     "iopub.execute_input": "2021-10-02T04:24:11.189047Z",
     "iopub.status.busy": "2021-10-02T04:24:11.188773Z",
     "iopub.status.idle": "2021-10-02T04:24:11.197019Z",
     "shell.execute_reply": "2021-10-02T04:24:11.19604Z",
     "shell.execute_reply.started": "2021-10-02T04:24:11.189018Z"
    }
   },
   "outputs": [
    {
     "name": "stdout",
     "output_type": "stream",
     "text": [
      "The shape of train_image, train_labels, test_images and test_labels are (60000, 28, 28), (60000,),(10000, 28, 28) & (10000,)\n"
     ]
    }
   ],
   "source": [
    "print(\"The shape of train_image, train_labels, test_images and test_labels are {}, {},{} & {}\".format(\n",
    "     train_images.shape, train_labels.shape, test_images.shape, test_labels.shape))"
   ]
  },
  {
   "cell_type": "code",
   "execution_count": 7,
   "metadata": {
    "execution": {
     "iopub.execute_input": "2021-10-02T04:24:11.198738Z",
     "iopub.status.busy": "2021-10-02T04:24:11.198381Z",
     "iopub.status.idle": "2021-10-02T04:24:11.422313Z",
     "shell.execute_reply": "2021-10-02T04:24:11.421741Z",
     "shell.execute_reply.started": "2021-10-02T04:24:11.198678Z"
    }
   },
   "outputs": [
    {
     "data": {
      "image/png": "[encoded data removed]",
      "text/plain": [
       "<Figure size 432x288 with 1 Axes>"
      ]
     },
     "metadata": {
      "needs_background": "light"
     },
     "output_type": "display_data"
    }
   ],
   "source": [
    "#Visualizating loaded data\n",
    "digit = train_images[1]\n",
    "plt.imshow(digit, cmap=plt.cm.binary)\n",
    "plt.show()"
   ]
  },
  {
   "cell_type": "code",
   "execution_count": 8,
   "metadata": {
    "execution": {
     "iopub.execute_input": "2021-10-02T04:24:11.425599Z",
     "iopub.status.busy": "2021-10-02T04:24:11.424865Z",
     "iopub.status.idle": "2021-10-02T04:24:11.432216Z",
     "shell.execute_reply": "2021-10-02T04:24:11.431349Z",
     "shell.execute_reply.started": "2021-10-02T04:24:11.42556Z"
    }
   },
   "outputs": [
    {
     "data": {
      "text/plain": [
       "(90, 28, 28)"
      ]
     },
     "execution_count": 8,
     "metadata": {},
     "output_type": "execute_result"
    }
   ],
   "source": [
    "#Manipulating tensor images\n",
    "my_slice = train_images[10:100]\n",
    "my_slice.shape"
   ]
  },
  {
   "cell_type": "code",
   "execution_count": 10,
   "metadata": {
    "execution": {
     "iopub.execute_input": "2021-10-02T04:24:11.433717Z",
     "iopub.status.busy": "2021-10-02T04:24:11.433401Z",
     "iopub.status.idle": "2021-10-02T04:24:11.446481Z",
     "shell.execute_reply": "2021-10-02T04:24:11.445325Z",
     "shell.execute_reply.started": "2021-10-02T04:24:11.433666Z"
    }
   },
   "outputs": [],
   "source": [
    "#Creating a batch\n",
    "batch = train_images[:128]"
   ]
  },
  {
   "cell_type": "code",
   "execution_count": 11,
   "metadata": {
    "execution": {
     "iopub.execute_input": "2021-10-02T04:24:11.448032Z",
     "iopub.status.busy": "2021-10-02T04:24:11.44774Z",
     "iopub.status.idle": "2021-10-02T04:24:11.461486Z",
     "shell.execute_reply": "2021-10-02T04:24:11.460655Z",
     "shell.execute_reply.started": "2021-10-02T04:24:11.448001Z"
    }
   },
   "outputs": [
    {
     "data": {
      "text/plain": [
       "(60000, 784)"
      ]
     },
     "execution_count": 11,
     "metadata": {},
     "output_type": "execute_result"
    }
   ],
   "source": [
    "#Tensor reshaping\n",
    "train_images_reshaped = train_images.reshape((60000, 28 * 28))\n",
    "train_images_reshaped.shape\n"
   ]
  },
  {
   "cell_type": "markdown",
   "metadata": {},
   "source": [
    "***Creating convnet layers***"
   ]
  },
  {
   "cell_type": "code",
   "execution_count": 12,
   "metadata": {
    "execution": {
     "iopub.execute_input": "2021-10-02T04:24:11.464069Z",
     "iopub.status.busy": "2021-10-02T04:24:11.463065Z",
     "iopub.status.idle": "2021-10-02T04:24:11.473013Z",
     "shell.execute_reply": "2021-10-02T04:24:11.472005Z",
     "shell.execute_reply.started": "2021-10-02T04:24:11.464022Z"
    }
   },
   "outputs": [],
   "source": [
    "train_x = train_images.reshape((60000, 28,28,1))\n",
    "train_x  = train_x[:10000]\n",
    "train_y = train_labels.astype('float32')/255\n",
    "train_y  = train_y[:10000]\n",
    "test_x = test_images.reshape((10000, 28,28,1))\n",
    "test_y = test_labels.astype('float32')/255\n"
   ]
  },
  {
   "cell_type": "code",
   "execution_count": 13,
   "metadata": {
    "execution": {
     "iopub.execute_input": "2021-10-02T04:24:11.474951Z",
     "iopub.status.busy": "2021-10-02T04:24:11.474639Z",
     "iopub.status.idle": "2021-10-02T04:24:11.617962Z",
     "shell.execute_reply": "2021-10-02T04:24:11.616907Z",
     "shell.execute_reply.started": "2021-10-02T04:24:11.474921Z"
    }
   },
   "outputs": [
    {
     "name": "stderr",
     "output_type": "stream",
     "text": [
      "2021-10-05 16:40:26.256506: I tensorflow/compiler/jit/xla_cpu_device.cc:41] Not creating XLA devices, tf_xla_enable_xla_devices not set\n",
      "2021-10-05 16:40:26.256955: W tensorflow/stream_executor/platform/default/dso_loader.cc:60] Could not load dynamic library 'libcuda.so.1'; dlerror: libcuda.so.1: cannot open shared object file: No such file or directory; LD_LIBRARY_PATH: /opt/conda/lib\n",
      "2021-10-05 16:40:26.256982: W tensorflow/stream_executor/cuda/cuda_driver.cc:326] failed call to cuInit: UNKNOWN ERROR (303)\n",
      "2021-10-05 16:40:26.257006: I tensorflow/stream_executor/cuda/cuda_diagnostics.cc:156] kernel driver does not appear to be running on this host (1cd76d885a23): /proc/driver/nvidia/version does not exist\n",
      "2021-10-05 16:40:26.257265: I tensorflow/core/platform/cpu_feature_guard.cc:142] This TensorFlow binary is optimized with oneAPI Deep Neural Network Library (oneDNN) to use the following CPU instructions in performance-critical operations:  AVX2 FMA\n",
      "To enable them in other operations, rebuild TensorFlow with the appropriate compiler flags.\n",
      "2021-10-05 16:40:26.257547: I tensorflow/compiler/jit/xla_gpu_device.cc:99] Not creating XLA devices, tf_xla_enable_xla_devices not set\n"
     ]
    }
   ],
   "source": [
    "model = keras.Sequential(([\n",
    "    layers.Conv2D(32, (3, 3), activation='relu', input_shape=(28, 28, 1)),\n",
    "    layers.MaxPooling2D((2, 2)),\n",
    "    layers.Conv2D(64, (3, 3), activation='relu'),\n",
    "    layers.MaxPooling2D((2, 2)),\n",
    "    layers.Conv2D(64, (3, 3), activation='relu'),\n",
    "    layers.Flatten(), \n",
    "    layers.Dense(64, activation = 'relu'), \n",
    "    layers.Dense(10, activation = 'softmax')\n",
    "]))"
   ]
  },
  {
   "cell_type": "markdown",
   "metadata": {},
   "source": [
    "***Training the convent layers***"
   ]
  },
  {
   "cell_type": "code",
   "execution_count": 29,
   "metadata": {
    "execution": {
     "iopub.execute_input": "2021-10-02T04:24:11.619516Z",
     "iopub.status.busy": "2021-10-02T04:24:11.619213Z",
     "iopub.status.idle": "2021-10-02T04:24:11.70897Z",
     "shell.execute_reply": "2021-10-02T04:24:11.708002Z",
     "shell.execute_reply.started": "2021-10-02T04:24:11.619477Z"
    }
   },
   "outputs": [
    {
     "ename": "ValueError",
     "evalue": "cannot reshape array of size 47040000 into shape (10000,28,28,1)",
     "output_type": "error",
     "traceback": [
      "\u001b[0;31m---------------------------------------------------------------------------\u001b[0m",
      "\u001b[0;31mValueError\u001b[0m                                Traceback (most recent call last)",
      "\u001b[0;32m/tmp/ipykernel_110/1670983491.py\u001b[0m in \u001b[0;36m<module>\u001b[0;34m\u001b[0m\n\u001b[0;32m----> 1\u001b[0;31m \u001b[0mtrain_x\u001b[0m \u001b[0;34m=\u001b[0m \u001b[0mtrain_images\u001b[0m\u001b[0;34m.\u001b[0m\u001b[0mreshape\u001b[0m\u001b[0;34m(\u001b[0m\u001b[0;34m(\u001b[0m\u001b[0;36m10000\u001b[0m\u001b[0;34m,\u001b[0m \u001b[0;36m28\u001b[0m\u001b[0;34m,\u001b[0m \u001b[0;36m28\u001b[0m\u001b[0;34m,\u001b[0m \u001b[0;36m1\u001b[0m\u001b[0;34m)\u001b[0m\u001b[0;34m)\u001b[0m\u001b[0;34m\u001b[0m\u001b[0;34m\u001b[0m\u001b[0m\n\u001b[0m\u001b[1;32m      2\u001b[0m \u001b[0mtrain_y\u001b[0m \u001b[0;34m=\u001b[0m \u001b[0mtrain_images\u001b[0m\u001b[0;34m.\u001b[0m\u001b[0mastype\u001b[0m\u001b[0;34m(\u001b[0m\u001b[0;34m'float32'\u001b[0m\u001b[0;34m)\u001b[0m \u001b[0;34m/\u001b[0m \u001b[0;36m255\u001b[0m\u001b[0;34m\u001b[0m\u001b[0;34m\u001b[0m\u001b[0m\n\u001b[1;32m      3\u001b[0m \u001b[0mtest_x\u001b[0m \u001b[0;34m=\u001b[0m \u001b[0mtest_images\u001b[0m\u001b[0;34m.\u001b[0m\u001b[0mreshape\u001b[0m\u001b[0;34m(\u001b[0m\u001b[0;34m(\u001b[0m\u001b[0;36m100\u001b[0m\u001b[0;34m,\u001b[0m \u001b[0;36m28\u001b[0m\u001b[0;34m,\u001b[0m \u001b[0;36m28\u001b[0m\u001b[0;34m,\u001b[0m \u001b[0;36m1\u001b[0m\u001b[0;34m)\u001b[0m\u001b[0;34m)\u001b[0m\u001b[0;34m\u001b[0m\u001b[0;34m\u001b[0m\u001b[0m\n\u001b[1;32m      4\u001b[0m \u001b[0mtest_y\u001b[0m \u001b[0;34m=\u001b[0m \u001b[0mtest_images\u001b[0m\u001b[0;34m.\u001b[0m\u001b[0mastype\u001b[0m\u001b[0;34m(\u001b[0m\u001b[0;34m'float32'\u001b[0m\u001b[0;34m)\u001b[0m \u001b[0;34m/\u001b[0m \u001b[0;36m255\u001b[0m\u001b[0;34m\u001b[0m\u001b[0;34m\u001b[0m\u001b[0m\n",
      "\u001b[0;31mValueError\u001b[0m: cannot reshape array of size 47040000 into shape (10000,28,28,1)"
     ]
    }
   ],
   "source": [
    "# train_x = train_images.reshape((10000, 28, 28, 1))\n",
    "# train_y = train_images.astype('float32') / 255\n",
    "# test_x = test_images.reshape((100, 28, 28, 1))\n",
    "# test_y = test_images.astype('float32') / 255"
   ]
  },
  {
   "cell_type": "code",
   "execution_count": 14,
   "metadata": {
    "execution": {
     "iopub.execute_input": "2021-10-02T04:24:11.711076Z",
     "iopub.status.busy": "2021-10-02T04:24:11.710707Z"
    }
   },
   "outputs": [],
   "source": [
    "train_y = to_categorical(train_y)\n",
    "test_x = to_categorical(train_x)\n"
   ]
  },
  {
   "cell_type": "code",
   "execution_count": 15,
   "metadata": {},
   "outputs": [],
   "source": [
    "model.compile(optimizer='rmsprop',\n",
    "    loss='sparse_categorical_crossentropy',\n",
    "    metrics=['accuracy'])"
   ]
  },
  {
   "cell_type": "code",
   "execution_count": 16,
   "metadata": {},
   "outputs": [
    {
     "name": "stderr",
     "output_type": "stream",
     "text": [
      "2021-10-05 16:40:33.114697: I tensorflow/compiler/mlir/mlir_graph_optimization_pass.cc:116] None of the MLIR optimization passes are enabled (registered 2)\n",
      "2021-10-05 16:40:33.115879: I tensorflow/core/platform/profile_utils/cpu_utils.cc:112] CPU Frequency: 2200215000 Hz\n"
     ]
    },
    {
     "name": "stdout",
     "output_type": "stream",
     "text": [
      "Epoch 1/5\n",
      "157/157 [==============================] - 4s 25ms/step - loss: 1.0868 - accuracy: 0.9643\n",
      "Epoch 2/5\n",
      "157/157 [==============================] - 4s 24ms/step - loss: 4.7998e-12 - accuracy: 1.0000\n",
      "Epoch 3/5\n",
      "157/157 [==============================] - 4s 25ms/step - loss: 0.0000e+00 - accuracy: 1.0000\n",
      "Epoch 4/5\n",
      "157/157 [==============================] - 4s 24ms/step - loss: 0.0000e+00 - accuracy: 1.0000\n",
      "Epoch 5/5\n",
      "157/157 [==============================] - 4s 24ms/step - loss: 0.0000e+00 - accuracy: 1.0000\n"
     ]
    },
    {
     "data": {
      "text/plain": [
       "<tensorflow.python.keras.callbacks.History at 0x7fc08a851150>"
      ]
     },
     "execution_count": 16,
     "metadata": {},
     "output_type": "execute_result"
    }
   ],
   "source": [
    "model.fit(train_x, train_y, epochs=5, batch_size=64)"
   ]
  },
  {
   "cell_type": "markdown",
   "metadata": {},
   "source": [
    "Reached 100% accuracy in five epochs. Let's check test accuracy"
   ]
  },
  {
   "cell_type": "code",
   "execution_count": null,
   "metadata": {},
   "outputs": [],
   "source": [
    "classes = model.predict(test_x, batch_size=10)\n",
    "print(classes)"
   ]
  },
  {
   "cell_type": "code",
   "execution_count": null,
   "metadata": {},
   "outputs": [],
   "source": []
  }
 ],
 "metadata": {
  "kernelspec": {
   "display_name": "Python 3 (ipykernel)",
   "language": "python",
   "name": "python3"
  },
  "language_info": {
   "codemirror_mode": {
    "name": "ipython",
    "version": 3
   },
   "file_extension": ".py",
   "mimetype": "text/x-python",
   "name": "python",
   "nbconvert_exporter": "python",
   "pygments_lexer": "ipython3",
   "version": "3.7.10"
  }
 },
 "nbformat": 4,
 "nbformat_minor": 4
}
