{
 "cells": [
  {
   "cell_type": "code",
   "execution_count": 1,
   "metadata": {},
   "outputs": [
    {
     "name": "stdout",
     "output_type": "stream",
     "text": [
      "Downloading petfinder-pawpularity-score, 1030728211 bytes zipped\n",
      "[==================================================] 1030728211 bytes downloaded\n",
      "Unzipping petfinder-pawpularity-score\n",
      "Dataset import complete.\n"
     ]
    }
   ],
   "source": [
    "\n",
    "# IMPORTANT: RUN THIS CELL IN ORDER TO IMPORT YOUR KAGGLE DATASETS\n",
    "# TO THE CORRECT LOCATION (/kaggle/input) IN YOUR NOTEBOOK,\n",
    "# THEN FEEL FREE TO DELETE CELL.\n",
    "\n",
    "import os\n",
    "import sys\n",
    "from tempfile import NamedTemporaryFile\n",
    "from urllib.request import urlopen\n",
    "from urllib.parse import unquote\n",
    "from urllib.error import HTTPError\n",
    "from zipfile import ZipFile\n",
    "\n",
    "CHUNK_SIZE = 40960\n",
    "DATASET_MAPPING = 'petfinder-pawpularity-score:https%3A%2F%2Fstorage.googleapis.com%2Fkaggle-competitions-data%2Fkaggle-v2%2F25383%2F2684322%2Fbundle%2Farchive.zip%3FX-Goog-Algorithm%3DGOOG4-RSA-SHA256%26X-Goog-Credential%3Dgcp-kaggle-com%2540kaggle-161607.iam.gserviceaccount.com%252F20211012%252Fauto%252Fstorage%252Fgoog4_request%26X-Goog-Date%3D20211012T175202Z%26X-Goog-Expires%3D259199%26X-Goog-SignedHeaders%3Dhost%26X-Goog-Signature%3D7fd2f02d52ef6a775d61f73941d1b0f46786f2e7b747dfb1a149c993d445d638ac00f56fb8451b1bf6023877a436c1c1dbcd9ae20b58d598c699688e3a362e6c666eafcd315c76cbe5fb2f7ff500bf36a1e36c4460a26462a607df469a60f0fa81ce359a022f11e0f648e015b1c28189ac45adf53c723ebae975a4bcad28056621e6c1c2b643cc97dfcd96d3fe8b090cc0e3985305404bd828c9e5578ca871e556409063fcf54f16ad4f96b73c4aa5e4b5249a4d2af18ebe1ade64bff627c22c600d59f065ee524d8c8cb65f2cbd52cbc05a8aea1333b4992e6aea74ae0dd3bd03d1702f732cf6f81dfc9c9b1a837dca3743a3ef7f83a059b7d00ee2ce874a2d'\n",
    "KAGGLE_INPUT_PATH='/home/kaggle/input'\n",
    "KAGGLE_INPUT_SYMLINK='/kaggle'\n",
    "\n",
    "#os.makedirs(KAGGLE_INPUT_PATH, 777)\n",
    "#os.symlink(KAGGLE_INPUT_PATH, os.path.join('..', 'input'), target_is_directory=True)\n",
    "os.makedirs(KAGGLE_INPUT_SYMLINK)\n",
    "os.symlink(KAGGLE_INPUT_PATH, os.path.join(KAGGLE_INPUT_SYMLINK, 'input'), target_is_directory=True)\n",
    "\n",
    "for dataset_mapping in DATASET_MAPPING.split(','):\n",
    "    directory, download_url_encoded = dataset_mapping.split(':')\n",
    "    download_url = unquote(download_url_encoded)\n",
    "    destination_path = os.path.join(KAGGLE_INPUT_PATH, directory)\n",
    "    try:\n",
    "        with urlopen(download_url) as zipfileres, NamedTemporaryFile() as tfile:\n",
    "            total_length = zipfileres.headers['content-length']\n",
    "            print(f'Downloading {directory}, {total_length} bytes zipped')\n",
    "            dl = 0\n",
    "            data = zipfileres.read(CHUNK_SIZE)\n",
    "            while len(data) > 0:\n",
    "                dl += len(data)\n",
    "                tfile.write(data)\n",
    "                done = int(50 * dl / int(total_length))\n",
    "                sys.stdout.write(f\"\\r[{'=' * done}{' ' * (50-done)}] {dl} bytes downloaded\")\n",
    "                sys.stdout.flush()\n",
    "                data = zipfileres.read(CHUNK_SIZE)\n",
    "            print(f'\\nUnzipping {directory}')\n",
    "            with ZipFile(tfile) as zfile:\n",
    "                zfile.extractall(destination_path)\n",
    "    except HTTPError as e:\n",
    "        print(f'Failed to load (likely expired) {download_url} to path {destination_path}')\n",
    "        continue\n",
    "    except OSError as e:\n",
    "        print(f'Failed to load {download_url} to path {destination_path}')\n",
    "        continue\n",
    "print('Dataset import complete.')\n"
   ]
  },
  {
   "cell_type": "code",
   "execution_count": 27,
   "metadata": {
    "_cell_guid": "b1076dfc-b9ad-4769-8c92-a6c4dae69d19",
    "_uuid": "8f2839f25d086af736a60e9eeb907d3b93b6e0e5"
   },
   "outputs": [],
   "source": [
    "# This Python 3 environment comes with many helpful analytics libraries installed\n",
    "# It is defined by the kaggle/python Docker image: https://github.com/kaggle/docker-python\n",
    "# For example, here's several helpful packages to load\n",
    "\n",
    "import numpy as np # linear algebra\n",
    "import pandas as pd # data processing, CSV file I/O (e.g. pd.read_csv)\n",
    "import glob\n",
    "import cv2\n",
    "\n",
    "# Input data files are available in the read-only \"../input/\" directory\n",
    "# For example, running this (by clicking run or pressing Shift+Enter) will list all files under the input directory\n",
    "\n",
    "import os, shutil\n",
    "from tensorflow import keras\n",
    "from tensorflow.keras import layers\n",
    "from tensorflow.keras import utils\n",
    "import matplotlib.pyplot as plt\n",
    "from tensorflow.keras import optimizers\n",
    "from tensorflow.keras.preprocessing.image import ImageDataGenerator\n",
    "import matplotlib.image as mpimg\n",
    "# for dirname, _, filenames in os.walk('/kaggle/input'):\n",
    "#     for filename in filenames:\n",
    "#         #print(os.path.join(dirname, filename))\n",
    "\n",
    "# You can write up to 20GB to the current directory (/kaggle/working/) that gets preserved as output when you create a version using \"Save & Run All\" \n",
    "# You can also write temporary files to /kaggle/temp/, but they won't be saved outside of the current session"
   ]
  },
  {
   "cell_type": "code",
   "execution_count": 3,
   "metadata": {},
   "outputs": [],
   "source": [
    "#Create directory to separate train and validation images\n",
    "original_dataset_dir = '/kaggle/input/petfinder-pawpularity-score/'\n",
    "base_dir = '/kaggle/petfinder-pawpularity-score-small/'\n",
    "os.mkdir(base_dir)\n"
   ]
  },
  {
   "cell_type": "code",
   "execution_count": 4,
   "metadata": {},
   "outputs": [],
   "source": [
    "#Creating train,test and validation directory\n",
    "train_dir = os.path.join(base_dir, 'train')\n",
    "os.mkdir(train_dir)\n",
    "validation_dir = os.path.join(base_dir, 'validation')\n",
    "os.mkdir(validation_dir)\n",
    "test_dir = os.path.join(base_dir, 'test')\n",
    "os.mkdir(test_dir)"
   ]
  },
  {
   "cell_type": "code",
   "execution_count": 5,
   "metadata": {},
   "outputs": [],
   "source": [
    "#Reading score file\n",
    "csv_path = os.path.join(original_dataset_dir , 'train.csv')\n",
    "df_score = pd.read_csv(csv_path)"
   ]
  },
  {
   "cell_type": "code",
   "execution_count": 6,
   "metadata": {},
   "outputs": [
    {
     "data": {
      "text/html": [
       "<div>\n",
       "<style scoped>\n",
       "    .dataframe tbody tr th:only-of-type {\n",
       "        vertical-align: middle;\n",
       "    }\n",
       "\n",
       "    .dataframe tbody tr th {\n",
       "        vertical-align: top;\n",
       "    }\n",
       "\n",
       "    .dataframe thead th {\n",
       "        text-align: right;\n",
       "    }\n",
       "</style>\n",
       "<table border=\"1\" class=\"dataframe\">\n",
       "  <thead>\n",
       "    <tr style=\"text-align: right;\">\n",
       "      <th></th>\n",
       "      <th>Id</th>\n",
       "      <th>Subject Focus</th>\n",
       "      <th>Eyes</th>\n",
       "      <th>Face</th>\n",
       "      <th>Near</th>\n",
       "      <th>Action</th>\n",
       "      <th>Accessory</th>\n",
       "      <th>Group</th>\n",
       "      <th>Collage</th>\n",
       "      <th>Human</th>\n",
       "      <th>Occlusion</th>\n",
       "      <th>Info</th>\n",
       "      <th>Blur</th>\n",
       "      <th>Pawpularity</th>\n",
       "    </tr>\n",
       "  </thead>\n",
       "  <tbody>\n",
       "    <tr>\n",
       "      <th>0</th>\n",
       "      <td>0007de18844b0dbbb5e1f607da0606e0</td>\n",
       "      <td>0</td>\n",
       "      <td>1</td>\n",
       "      <td>1</td>\n",
       "      <td>1</td>\n",
       "      <td>0</td>\n",
       "      <td>0</td>\n",
       "      <td>1</td>\n",
       "      <td>0</td>\n",
       "      <td>0</td>\n",
       "      <td>0</td>\n",
       "      <td>0</td>\n",
       "      <td>0</td>\n",
       "      <td>63</td>\n",
       "    </tr>\n",
       "    <tr>\n",
       "      <th>1</th>\n",
       "      <td>0009c66b9439883ba2750fb825e1d7db</td>\n",
       "      <td>0</td>\n",
       "      <td>1</td>\n",
       "      <td>1</td>\n",
       "      <td>0</td>\n",
       "      <td>0</td>\n",
       "      <td>0</td>\n",
       "      <td>0</td>\n",
       "      <td>0</td>\n",
       "      <td>0</td>\n",
       "      <td>0</td>\n",
       "      <td>0</td>\n",
       "      <td>0</td>\n",
       "      <td>42</td>\n",
       "    </tr>\n",
       "    <tr>\n",
       "      <th>2</th>\n",
       "      <td>0013fd999caf9a3efe1352ca1b0d937e</td>\n",
       "      <td>0</td>\n",
       "      <td>1</td>\n",
       "      <td>1</td>\n",
       "      <td>1</td>\n",
       "      <td>0</td>\n",
       "      <td>0</td>\n",
       "      <td>0</td>\n",
       "      <td>0</td>\n",
       "      <td>1</td>\n",
       "      <td>1</td>\n",
       "      <td>0</td>\n",
       "      <td>0</td>\n",
       "      <td>28</td>\n",
       "    </tr>\n",
       "    <tr>\n",
       "      <th>3</th>\n",
       "      <td>0018df346ac9c1d8413cfcc888ca8246</td>\n",
       "      <td>0</td>\n",
       "      <td>1</td>\n",
       "      <td>1</td>\n",
       "      <td>1</td>\n",
       "      <td>0</td>\n",
       "      <td>0</td>\n",
       "      <td>0</td>\n",
       "      <td>0</td>\n",
       "      <td>0</td>\n",
       "      <td>0</td>\n",
       "      <td>0</td>\n",
       "      <td>0</td>\n",
       "      <td>15</td>\n",
       "    </tr>\n",
       "    <tr>\n",
       "      <th>4</th>\n",
       "      <td>001dc955e10590d3ca4673f034feeef2</td>\n",
       "      <td>0</td>\n",
       "      <td>0</td>\n",
       "      <td>0</td>\n",
       "      <td>1</td>\n",
       "      <td>0</td>\n",
       "      <td>0</td>\n",
       "      <td>1</td>\n",
       "      <td>0</td>\n",
       "      <td>0</td>\n",
       "      <td>0</td>\n",
       "      <td>0</td>\n",
       "      <td>0</td>\n",
       "      <td>72</td>\n",
       "    </tr>\n",
       "    <tr>\n",
       "      <th>5</th>\n",
       "      <td>001dd4f6fafb890610b1635f967ea081</td>\n",
       "      <td>0</td>\n",
       "      <td>0</td>\n",
       "      <td>1</td>\n",
       "      <td>0</td>\n",
       "      <td>0</td>\n",
       "      <td>0</td>\n",
       "      <td>0</td>\n",
       "      <td>0</td>\n",
       "      <td>0</td>\n",
       "      <td>0</td>\n",
       "      <td>0</td>\n",
       "      <td>1</td>\n",
       "      <td>74</td>\n",
       "    </tr>\n",
       "    <tr>\n",
       "      <th>6</th>\n",
       "      <td>0023b8a3abc93c712edd6120867deb53</td>\n",
       "      <td>0</td>\n",
       "      <td>1</td>\n",
       "      <td>1</td>\n",
       "      <td>1</td>\n",
       "      <td>0</td>\n",
       "      <td>0</td>\n",
       "      <td>0</td>\n",
       "      <td>0</td>\n",
       "      <td>1</td>\n",
       "      <td>1</td>\n",
       "      <td>0</td>\n",
       "      <td>0</td>\n",
       "      <td>22</td>\n",
       "    </tr>\n",
       "    <tr>\n",
       "      <th>7</th>\n",
       "      <td>0031d6a9ef7340f898c3e05f92c7bb04</td>\n",
       "      <td>0</td>\n",
       "      <td>1</td>\n",
       "      <td>1</td>\n",
       "      <td>0</td>\n",
       "      <td>0</td>\n",
       "      <td>0</td>\n",
       "      <td>1</td>\n",
       "      <td>1</td>\n",
       "      <td>0</td>\n",
       "      <td>0</td>\n",
       "      <td>1</td>\n",
       "      <td>0</td>\n",
       "      <td>35</td>\n",
       "    </tr>\n",
       "    <tr>\n",
       "      <th>8</th>\n",
       "      <td>0042bc5bada6d1cf8951f8f9f0d399fa</td>\n",
       "      <td>0</td>\n",
       "      <td>1</td>\n",
       "      <td>1</td>\n",
       "      <td>1</td>\n",
       "      <td>0</td>\n",
       "      <td>0</td>\n",
       "      <td>0</td>\n",
       "      <td>0</td>\n",
       "      <td>0</td>\n",
       "      <td>0</td>\n",
       "      <td>0</td>\n",
       "      <td>0</td>\n",
       "      <td>53</td>\n",
       "    </tr>\n",
       "    <tr>\n",
       "      <th>9</th>\n",
       "      <td>0049cb81313c94fa007286e9039af910</td>\n",
       "      <td>0</td>\n",
       "      <td>1</td>\n",
       "      <td>1</td>\n",
       "      <td>1</td>\n",
       "      <td>0</td>\n",
       "      <td>0</td>\n",
       "      <td>0</td>\n",
       "      <td>0</td>\n",
       "      <td>0</td>\n",
       "      <td>0</td>\n",
       "      <td>0</td>\n",
       "      <td>0</td>\n",
       "      <td>21</td>\n",
       "    </tr>\n",
       "  </tbody>\n",
       "</table>\n",
       "</div>"
      ],
      "text/plain": [
       "                                 Id  Subject Focus  Eyes  Face  Near  Action  \\\n",
       "0  0007de18844b0dbbb5e1f607da0606e0              0     1     1     1       0   \n",
       "1  0009c66b9439883ba2750fb825e1d7db              0     1     1     0       0   \n",
       "2  0013fd999caf9a3efe1352ca1b0d937e              0     1     1     1       0   \n",
       "3  0018df346ac9c1d8413cfcc888ca8246              0     1     1     1       0   \n",
       "4  001dc955e10590d3ca4673f034feeef2              0     0     0     1       0   \n",
       "5  001dd4f6fafb890610b1635f967ea081              0     0     1     0       0   \n",
       "6  0023b8a3abc93c712edd6120867deb53              0     1     1     1       0   \n",
       "7  0031d6a9ef7340f898c3e05f92c7bb04              0     1     1     0       0   \n",
       "8  0042bc5bada6d1cf8951f8f9f0d399fa              0     1     1     1       0   \n",
       "9  0049cb81313c94fa007286e9039af910              0     1     1     1       0   \n",
       "\n",
       "   Accessory  Group  Collage  Human  Occlusion  Info  Blur  Pawpularity  \n",
       "0          0      1        0      0          0     0     0           63  \n",
       "1          0      0        0      0          0     0     0           42  \n",
       "2          0      0        0      1          1     0     0           28  \n",
       "3          0      0        0      0          0     0     0           15  \n",
       "4          0      1        0      0          0     0     0           72  \n",
       "5          0      0        0      0          0     0     1           74  \n",
       "6          0      0        0      1          1     0     0           22  \n",
       "7          0      1        1      0          0     1     0           35  \n",
       "8          0      0        0      0          0     0     0           53  \n",
       "9          0      0        0      0          0     0     0           21  "
      ]
     },
     "execution_count": 6,
     "metadata": {},
     "output_type": "execute_result"
    }
   ],
   "source": [
    "#Reading first ten columns\n",
    "df_score.head(10)"
   ]
  },
  {
   "cell_type": "code",
   "execution_count": 7,
   "metadata": {},
   "outputs": [
    {
     "name": "stdout",
     "output_type": "stream",
     "text": [
      "/kaggle/input/petfinder-pawpularity-score/\n",
      "/kaggle/input/petfinder-pawpularity-score/train\n",
      "/kaggle/input/petfinder-pawpularity-score/test\n"
     ]
    }
   ],
   "source": [
    "for dirname, _, filenames in os.walk('/kaggle/input/petfinder-pawpularity-score/'):\n",
    "    print(dirname)"
   ]
  },
  {
   "cell_type": "code",
   "execution_count": 8,
   "metadata": {},
   "outputs": [],
   "source": [
    "def get_score_by_id(filename):\n",
    "    image_id = filename.split('.')[0]\n",
    "    if image_id is not None:\n",
    "        score = df_score[df_score['Id'] == image_id]['Pawpularity'].values[0]\n",
    "        return score"
   ]
  },
  {
   "cell_type": "code",
   "execution_count": 75,
   "metadata": {},
   "outputs": [
    {
     "name": "stdout",
     "output_type": "stream",
     "text": [
      "63\n"
     ]
    }
   ],
   "source": [
    "#test the function\n",
    "score = get_score_by_id('0007de18844b0dbbb5e1f607da0606e0.jpg')\n",
    "print(score)"
   ]
  },
  {
   "cell_type": "code",
   "execution_count": 9,
   "metadata": {},
   "outputs": [],
   "source": [
    "#Creating cat dataset\n",
    "for dirname, _, filenames in os.walk('/kaggle/input/petfinder-pawpularity-score/train'):\n",
    "    for i, fname in enumerate(filenames):\n",
    "        if i<9500:\n",
    "            src = os.path.join(dirname, fname)\n",
    "            dst = os.path.join(train_dir, fname)\n",
    "            shutil.copyfile(src, dst)\n",
    "            #train_label = np.append(train_label, get_score_by_id(fname))\n",
    "        elif i>=9500 and i<10000:\n",
    "            src = os.path.join(dirname, fname)\n",
    "            dst = os.path.join(validation_dir, fname)\n",
    "            shutil.copyfile(src, dst)\n",
    "            #validation_label = np.append(validation_label, get_score_by_id(fname))\n",
    "        else:\n",
    "            pass"
   ]
  },
  {
   "cell_type": "code",
   "execution_count": 70,
   "metadata": {},
   "outputs": [],
   "source": [
    "#Check whether image files aligns to corect label \n",
    "#Script also correct any mis-labelled images\n",
    "def create_label_array_from_images(curr_dir):\n",
    "    labels = []\n",
    "    for dirname,_, filename in os.walk(curr_dir):\n",
    "        for i, file in enumerate(filename):\n",
    "            labels.append(get_score_by_id(str(file)))\n",
    "    print (\"Size of label array: \", len(labels)) \n",
    "    return np.array(labels)"
   ]
  },
  {
   "cell_type": "code",
   "execution_count": 71,
   "metadata": {},
   "outputs": [
    {
     "name": "stdout",
     "output_type": "stream",
     "text": [
      "Size of label array:  9500\n"
     ]
    }
   ],
   "source": [
    "train_label = create_label_array_from_images(train_dir)"
   ]
  },
  {
   "cell_type": "code",
   "execution_count": 72,
   "metadata": {},
   "outputs": [
    {
     "name": "stdout",
     "output_type": "stream",
     "text": [
      "Size of label array:  412\n"
     ]
    }
   ],
   "source": [
    "validation_label = create_label_array_from_images(validation_dir)"
   ]
  },
  {
   "cell_type": "code",
   "execution_count": 73,
   "metadata": {},
   "outputs": [
    {
     "name": "stdout",
     "output_type": "stream",
     "text": [
      "No of train images in train_dir  9500\n",
      "No of train images in validation_dir  412\n"
     ]
    }
   ],
   "source": [
    "print(\"No of train images in train_dir \", len(os.listdir(train_dir)))\n",
    "print(\"No of train images in validation_dir \", len(os.listdir(validation_dir)))"
   ]
  },
  {
   "cell_type": "code",
   "execution_count": 74,
   "metadata": {},
   "outputs": [
    {
     "name": "stdout",
     "output_type": "stream",
     "text": [
      "No of train labels in train_label  9500\n",
      "No of train labels in validation_label  412\n"
     ]
    }
   ],
   "source": [
    "print(\"No of train labels in train_label \",train_label.shape[0])\n",
    "print(\"No of train labels in validation_label \",validation_label.shape[0])\n"
   ]
  },
  {
   "cell_type": "code",
   "execution_count": 13,
   "metadata": {},
   "outputs": [
    {
     "name": "stderr",
     "output_type": "stream",
     "text": [
      "\n",
      "User settings:\n",
      "\n",
      "   KMP_AFFINITY=granularity=fine,verbose,compact,1,0\n",
      "   KMP_BLOCKTIME=0\n",
      "   KMP_SETTINGS=1\n",
      "   KMP_WARNINGS=0\n",
      "\n",
      "Effective settings:\n",
      "\n",
      "   KMP_ABORT_DELAY=0\n",
      "   KMP_ADAPTIVE_LOCK_PROPS='1,1024'\n",
      "   KMP_ALIGN_ALLOC=64\n",
      "   KMP_ALL_THREADPRIVATE=128\n",
      "   KMP_ATOMIC_MODE=2\n",
      "   KMP_BLOCKTIME=0\n",
      "   KMP_CPUINFO_FILE: value is not defined\n",
      "   KMP_DETERMINISTIC_REDUCTION=false\n",
      "   KMP_DEVICE_THREAD_LIMIT=2147483647\n",
      "   KMP_DISP_NUM_BUFFERS=7\n",
      "   KMP_DUPLICATE_LIB_OK=false\n",
      "   KMP_ENABLE_TASK_THROTTLING=true\n",
      "   KMP_FORCE_REDUCTION: value is not defined\n",
      "   KMP_FOREIGN_THREADS_THREADPRIVATE=true\n",
      "   KMP_FORKJOIN_BARRIER='2,2'\n",
      "   KMP_FORKJOIN_BARRIER_PATTERN='hyper,hyper'\n",
      "   KMP_GTID_MODE=3\n",
      "   KMP_HANDLE_SIGNALS=false\n",
      "   KMP_HOT_TEAMS_MAX_LEVEL=1\n",
      "   KMP_HOT_TEAMS_MODE=0\n",
      "   KMP_INIT_AT_FORK=true\n",
      "   KMP_LIBRARY=throughput\n",
      "   KMP_LOCK_KIND=queuing\n",
      "   KMP_MALLOC_POOL_INCR=1M\n",
      "   KMP_NUM_LOCKS_IN_BLOCK=1\n",
      "   KMP_PLAIN_BARRIER='2,2'\n",
      "   KMP_PLAIN_BARRIER_PATTERN='hyper,hyper'\n",
      "   KMP_REDUCTION_BARRIER='1,1'\n",
      "   KMP_REDUCTION_BARRIER_PATTERN='hyper,hyper'\n",
      "   KMP_SCHEDULE='static,balanced;guided,iterative'\n",
      "   KMP_SETTINGS=true\n",
      "   KMP_SPIN_BACKOFF_PARAMS='4096,100'\n",
      "   KMP_STACKOFFSET=64\n",
      "   KMP_STACKPAD=0\n",
      "   KMP_STACKSIZE=8M\n",
      "   KMP_STORAGE_MAP=false\n",
      "   KMP_TASKING=2\n",
      "   KMP_TASKLOOP_MIN_TASKS=0\n",
      "   KMP_TASK_STEALING_CONSTRAINT=1\n",
      "   KMP_TEAMS_THREAD_LIMIT=4\n",
      "   KMP_TOPOLOGY_METHOD=all\n",
      "   KMP_USE_YIELD=1\n",
      "   KMP_VERSION=false\n",
      "   KMP_WARNINGS=false\n",
      "   OMP_AFFINITY_FORMAT='OMP: pid %P tid %i thread %n bound to OS proc set {%A}'\n",
      "   OMP_ALLOCATOR=omp_default_mem_alloc\n",
      "   OMP_CANCELLATION=false\n",
      "   OMP_DEFAULT_DEVICE=0\n",
      "   OMP_DISPLAY_AFFINITY=false\n",
      "   OMP_DISPLAY_ENV=false\n",
      "   OMP_DYNAMIC=false\n",
      "   OMP_MAX_ACTIVE_LEVELS=1\n",
      "   OMP_MAX_TASK_PRIORITY=0\n",
      "   OMP_NESTED: deprecated; max-active-levels-var=1\n",
      "   OMP_NUM_THREADS: value is not defined\n",
      "   OMP_PLACES: value is not defined\n",
      "   OMP_PROC_BIND='intel'\n",
      "   OMP_SCHEDULE='static'\n",
      "   OMP_STACKSIZE=8M\n",
      "   OMP_TARGET_OFFLOAD=DEFAULT\n",
      "   OMP_THREAD_LIMIT=2147483647\n",
      "   OMP_WAIT_POLICY=PASSIVE\n",
      "   KMP_AFFINITY='verbose,warnings,respect,granularity=fine,compact,1,0'\n",
      "\n",
      "2021-10-14 04:11:13.757275: I tensorflow/core/common_runtime/process_util.cc:146] Creating new thread pool with default inter op setting: 2. Tune using inter_op_parallelism_threads for best performance.\n"
     ]
    },
    {
     "name": "stdout",
     "output_type": "stream",
     "text": [
      "Downloading data from https://storage.googleapis.com/tensorflow/keras-applications/vgg16/vgg16_weights_tf_dim_ordering_tf_kernels_notop.h5\n",
      "58892288/58889256 [==============================] - 0s 0us/step\n",
      "58900480/58889256 [==============================] - 0s 0us/step\n"
     ]
    }
   ],
   "source": [
    "#Instatntied VGG16 model \n",
    "\n",
    "from tensorflow.keras.applications import VGG16\n",
    "conv_base = VGG16(weights='imagenet',\n",
    "include_top=False,\n",
    "input_shape=(150, 150, 3))"
   ]
  },
  {
   "cell_type": "code",
   "execution_count": 14,
   "metadata": {},
   "outputs": [
    {
     "name": "stdout",
     "output_type": "stream",
     "text": [
      "train_data_np shape: (9500, 150, 150, 3)\n"
     ]
    }
   ],
   "source": [
    "train_data_np = []\n",
    "files = glob.glob (train_dir+'/*')\n",
    "for myFile in files:\n",
    "    image = cv2.imread (myFile)\n",
    "    resized = cv2.resize(image, (150, 150), interpolation = cv2.INTER_AREA)\n",
    "    train_data_np.append(resized/255)\n",
    "train_data_np = np.array(train_data_np)\n",
    "print('train_data_np shape:', train_data_np.shape)"
   ]
  },
  {
   "cell_type": "code",
   "execution_count": 15,
   "metadata": {},
   "outputs": [
    {
     "name": "stdout",
     "output_type": "stream",
     "text": [
      "validation_data_np shape: (412, 150, 150, 3)\n"
     ]
    }
   ],
   "source": [
    "validation_data_np = []\n",
    "files = glob.glob (validation_dir+'/*')\n",
    "for myFile in files:\n",
    "    image = cv2.imread (myFile)\n",
    "    resized = cv2.resize(image, (150, 150), interpolation = cv2.INTER_AREA)\n",
    "    validation_data_np.append(resized/255)\n",
    "\n",
    "validation_data_np = np.array(validation_data_np)\n",
    "print('validation_data_np shape:', validation_data_np.shape)"
   ]
  },
  {
   "cell_type": "code",
   "execution_count": 16,
   "metadata": {},
   "outputs": [
    {
     "name": "stderr",
     "output_type": "stream",
     "text": [
      "2021-10-14 04:13:33.980670: I tensorflow/compiler/mlir/mlir_graph_optimization_pass.cc:185] None of the MLIR Optimization Passes are enabled (registered 2)\n"
     ]
    }
   ],
   "source": [
    "result_val = conv_base.predict(validation_data_np)"
   ]
  },
  {
   "cell_type": "code",
   "execution_count": 17,
   "metadata": {},
   "outputs": [],
   "source": [
    "result_train = conv_base.predict(train_data_np)"
   ]
  },
  {
   "cell_type": "code",
   "execution_count": 18,
   "metadata": {},
   "outputs": [
    {
     "data": {
      "text/plain": [
       "(412, 4, 4, 512)"
      ]
     },
     "execution_count": 18,
     "metadata": {},
     "output_type": "execute_result"
    }
   ],
   "source": [
    "result_val.shape"
   ]
  },
  {
   "cell_type": "code",
   "execution_count": 21,
   "metadata": {},
   "outputs": [],
   "source": [
    "import matplotlib.pyplot as plt\n",
    "#plt.imshow(result_train[0])"
   ]
  },
  {
   "cell_type": "code",
   "execution_count": 22,
   "metadata": {},
   "outputs": [],
   "source": [
    "train_features = np.reshape(result_train, (9500, 4 * 4 * 512))\n",
    "validation_features = np.reshape(result_val, (412, 4 * 4 * 512))"
   ]
  },
  {
   "cell_type": "code",
   "execution_count": 86,
   "metadata": {},
   "outputs": [],
   "source": [
    "model = keras.Sequential(([\n",
    "    layers.Dense(512, activation='relu', input_dim=4 * 4 * 512), \n",
    "    layers.Dense(64, activation='relu', input_dim=4 * 4 * 512),\n",
    "    layers.Dense(1, activation='linear')]))\n",
    "    "
   ]
  },
  {
   "cell_type": "code",
   "execution_count": 87,
   "metadata": {},
   "outputs": [],
   "source": [
    "opt = keras.optimizers.Adam(learning_rate=0.1)\n",
    "model.compile(optimizer=opt,\n",
    "    loss='mean_squared_error',\n",
    "    metrics=['mse'])"
   ]
  },
  {
   "cell_type": "code",
   "execution_count": 91,
   "metadata": {},
   "outputs": [
    {
     "name": "stdout",
     "output_type": "stream",
     "text": [
      "Epoch 1/100\n",
      "149/149 [==============================] - 3s 20ms/step - loss: 425.0343 - mse: 425.0343 - val_loss: 407.8189 - val_mse: 407.8189\n",
      "Epoch 2/100\n",
      "149/149 [==============================] - 3s 18ms/step - loss: 425.2262 - mse: 425.2262 - val_loss: 408.2373 - val_mse: 408.2373\n",
      "Epoch 3/100\n",
      "149/149 [==============================] - 3s 19ms/step - loss: 424.9091 - mse: 424.9091 - val_loss: 406.7903 - val_mse: 406.7903\n",
      "Epoch 4/100\n",
      "149/149 [==============================] - 3s 18ms/step - loss: 425.0553 - mse: 425.0553 - val_loss: 407.3178 - val_mse: 407.3178\n",
      "Epoch 5/100\n",
      "149/149 [==============================] - 3s 18ms/step - loss: 425.2792 - mse: 425.2792 - val_loss: 407.2108 - val_mse: 407.2108\n",
      "Epoch 6/100\n",
      "149/149 [==============================] - 3s 18ms/step - loss: 425.2067 - mse: 425.2067 - val_loss: 406.7881 - val_mse: 406.7881\n",
      "Epoch 7/100\n",
      "149/149 [==============================] - 3s 18ms/step - loss: 425.2872 - mse: 425.2872 - val_loss: 408.3585 - val_mse: 408.3585\n",
      "Epoch 8/100\n",
      "149/149 [==============================] - 3s 18ms/step - loss: 425.3801 - mse: 425.3801 - val_loss: 407.3993 - val_mse: 407.3993\n",
      "Epoch 9/100\n",
      "149/149 [==============================] - 3s 18ms/step - loss: 425.5283 - mse: 425.5283 - val_loss: 407.0586 - val_mse: 407.0586\n",
      "Epoch 10/100\n",
      "149/149 [==============================] - 3s 18ms/step - loss: 425.2279 - mse: 425.2279 - val_loss: 408.1308 - val_mse: 408.1308\n",
      "Epoch 11/100\n",
      "149/149 [==============================] - 3s 18ms/step - loss: 425.3501 - mse: 425.3501 - val_loss: 409.9609 - val_mse: 409.9609\n",
      "Epoch 12/100\n",
      "149/149 [==============================] - 3s 20ms/step - loss: 425.7931 - mse: 425.7931 - val_loss: 408.5884 - val_mse: 408.5884\n",
      "Epoch 13/100\n",
      "149/149 [==============================] - 3s 20ms/step - loss: 425.4525 - mse: 425.4525 - val_loss: 407.7497 - val_mse: 407.7497\n",
      "Epoch 14/100\n",
      "149/149 [==============================] - 3s 18ms/step - loss: 425.4714 - mse: 425.4714 - val_loss: 411.3531 - val_mse: 411.3531\n",
      "Epoch 15/100\n",
      "149/149 [==============================] - 3s 19ms/step - loss: 425.2527 - mse: 425.2527 - val_loss: 406.8931 - val_mse: 406.8931\n",
      "Epoch 16/100\n",
      "149/149 [==============================] - 3s 20ms/step - loss: 425.1691 - mse: 425.1691 - val_loss: 409.0164 - val_mse: 409.0164\n",
      "Epoch 17/100\n",
      "149/149 [==============================] - 3s 19ms/step - loss: 426.3156 - mse: 426.3156 - val_loss: 406.7867 - val_mse: 406.7867\n",
      "Epoch 18/100\n",
      "149/149 [==============================] - 3s 18ms/step - loss: 425.9083 - mse: 425.9083 - val_loss: 408.2147 - val_mse: 408.2147\n",
      "Epoch 19/100\n",
      "149/149 [==============================] - 3s 19ms/step - loss: 427.0327 - mse: 427.0327 - val_loss: 410.1883 - val_mse: 410.1883\n",
      "Epoch 20/100\n",
      "149/149 [==============================] - 3s 18ms/step - loss: 427.1145 - mse: 427.1145 - val_loss: 408.2881 - val_mse: 408.2881\n",
      "Epoch 21/100\n",
      "149/149 [==============================] - 3s 19ms/step - loss: 426.4146 - mse: 426.4146 - val_loss: 410.4146 - val_mse: 410.4146\n",
      "Epoch 22/100\n",
      "149/149 [==============================] - 3s 19ms/step - loss: 426.2290 - mse: 426.2290 - val_loss: 406.8197 - val_mse: 406.8197\n",
      "Epoch 23/100\n",
      "149/149 [==============================] - 3s 20ms/step - loss: 425.9728 - mse: 425.9728 - val_loss: 407.0132 - val_mse: 407.0132\n",
      "Epoch 24/100\n",
      "149/149 [==============================] - 3s 19ms/step - loss: 425.8428 - mse: 425.8428 - val_loss: 408.1439 - val_mse: 408.1439\n",
      "Epoch 25/100\n",
      "149/149 [==============================] - 3s 20ms/step - loss: 426.2402 - mse: 426.2402 - val_loss: 414.2534 - val_mse: 414.2534\n",
      "Epoch 26/100\n",
      "149/149 [==============================] - 3s 19ms/step - loss: 426.6339 - mse: 426.6339 - val_loss: 411.8448 - val_mse: 411.8448\n",
      "Epoch 27/100\n",
      "149/149 [==============================] - 3s 18ms/step - loss: 426.2980 - mse: 426.2980 - val_loss: 407.8995 - val_mse: 407.8995\n",
      "Epoch 28/100\n",
      "149/149 [==============================] - 3s 18ms/step - loss: 426.4266 - mse: 426.4266 - val_loss: 411.8310 - val_mse: 411.8310\n",
      "Epoch 29/100\n",
      "149/149 [==============================] - 3s 19ms/step - loss: 426.3436 - mse: 426.3436 - val_loss: 415.9290 - val_mse: 415.9290\n",
      "Epoch 30/100\n",
      "149/149 [==============================] - 3s 18ms/step - loss: 426.9724 - mse: 426.9724 - val_loss: 406.8897 - val_mse: 406.8897\n",
      "Epoch 31/100\n",
      "149/149 [==============================] - 3s 18ms/step - loss: 426.8148 - mse: 426.8148 - val_loss: 407.5023 - val_mse: 407.5023\n",
      "Epoch 32/100\n",
      "149/149 [==============================] - 3s 19ms/step - loss: 427.5531 - mse: 427.5531 - val_loss: 417.0417 - val_mse: 417.0417\n",
      "Epoch 33/100\n",
      "149/149 [==============================] - 3s 20ms/step - loss: 429.3764 - mse: 429.3764 - val_loss: 409.4517 - val_mse: 409.4517\n",
      "Epoch 34/100\n",
      "149/149 [==============================] - 3s 21ms/step - loss: 426.7817 - mse: 426.7817 - val_loss: 429.3286 - val_mse: 429.3286\n",
      "Epoch 35/100\n",
      "149/149 [==============================] - 3s 20ms/step - loss: 436.4524 - mse: 436.4524 - val_loss: 425.5057 - val_mse: 425.5057\n",
      "Epoch 36/100\n",
      "149/149 [==============================] - 3s 23ms/step - loss: 427.9065 - mse: 427.9065 - val_loss: 425.4664 - val_mse: 425.4664\n",
      "Epoch 37/100\n",
      "149/149 [==============================] - 3s 21ms/step - loss: 429.9867 - mse: 429.9867 - val_loss: 410.2644 - val_mse: 410.2644\n",
      "Epoch 38/100\n",
      "149/149 [==============================] - 3s 21ms/step - loss: 429.1266 - mse: 429.1266 - val_loss: 407.7151 - val_mse: 407.7151\n",
      "Epoch 39/100\n",
      "149/149 [==============================] - 3s 21ms/step - loss: 430.3326 - mse: 430.3326 - val_loss: 411.0106 - val_mse: 411.0106\n",
      "Epoch 40/100\n",
      "149/149 [==============================] - 3s 22ms/step - loss: 433.3380 - mse: 433.3380 - val_loss: 423.6007 - val_mse: 423.6007\n",
      "Epoch 41/100\n",
      "149/149 [==============================] - 3s 23ms/step - loss: 430.2428 - mse: 430.2428 - val_loss: 411.7997 - val_mse: 411.7997\n",
      "Epoch 42/100\n",
      "149/149 [==============================] - 3s 23ms/step - loss: 434.0175 - mse: 434.0175 - val_loss: 469.4846 - val_mse: 469.4846\n",
      "Epoch 43/100\n",
      "149/149 [==============================] - 3s 21ms/step - loss: 434.6309 - mse: 434.6309 - val_loss: 414.2935 - val_mse: 414.2935\n",
      "Epoch 44/100\n",
      "149/149 [==============================] - 3s 19ms/step - loss: 432.9863 - mse: 432.9863 - val_loss: 407.0114 - val_mse: 407.0114\n",
      "Epoch 45/100\n",
      "149/149 [==============================] - 3s 19ms/step - loss: 439.6345 - mse: 439.6345 - val_loss: 417.2702 - val_mse: 417.2702\n",
      "Epoch 46/100\n",
      "149/149 [==============================] - 3s 19ms/step - loss: 432.5478 - mse: 432.5478 - val_loss: 407.5175 - val_mse: 407.5175\n",
      "Epoch 47/100\n",
      "149/149 [==============================] - 3s 18ms/step - loss: 430.9867 - mse: 430.9867 - val_loss: 420.2410 - val_mse: 420.2410\n",
      "Epoch 48/100\n",
      "149/149 [==============================] - 3s 19ms/step - loss: 434.6748 - mse: 434.6748 - val_loss: 406.7995 - val_mse: 406.7995\n",
      "Epoch 49/100\n",
      "149/149 [==============================] - 3s 18ms/step - loss: 435.6217 - mse: 435.6217 - val_loss: 434.6149 - val_mse: 434.6149\n",
      "Epoch 50/100\n",
      "149/149 [==============================] - 3s 19ms/step - loss: 444.0738 - mse: 444.0738 - val_loss: 421.3569 - val_mse: 421.3569\n",
      "Epoch 51/100\n",
      "149/149 [==============================] - 3s 19ms/step - loss: 434.9871 - mse: 434.9871 - val_loss: 427.1161 - val_mse: 427.1161\n",
      "Epoch 52/100\n",
      "149/149 [==============================] - 3s 19ms/step - loss: 431.9684 - mse: 431.9684 - val_loss: 416.5959 - val_mse: 416.5959\n",
      "Epoch 53/100\n",
      "149/149 [==============================] - 3s 20ms/step - loss: 433.5257 - mse: 433.5257 - val_loss: 425.4589 - val_mse: 425.4589\n",
      "Epoch 54/100\n",
      "149/149 [==============================] - 3s 19ms/step - loss: 436.2692 - mse: 436.2692 - val_loss: 439.5707 - val_mse: 439.5707\n",
      "Epoch 55/100\n",
      "149/149 [==============================] - 3s 20ms/step - loss: 435.1088 - mse: 435.1088 - val_loss: 412.1273 - val_mse: 412.1273\n",
      "Epoch 56/100\n",
      "149/149 [==============================] - 3s 19ms/step - loss: 440.3443 - mse: 440.3443 - val_loss: 443.5038 - val_mse: 443.5038\n",
      "Epoch 57/100\n",
      "149/149 [==============================] - 3s 18ms/step - loss: 439.2811 - mse: 439.2811 - val_loss: 439.0289 - val_mse: 439.0289\n",
      "Epoch 58/100\n",
      "149/149 [==============================] - 3s 18ms/step - loss: 450.5457 - mse: 450.5457 - val_loss: 423.0627 - val_mse: 423.0627\n",
      "Epoch 59/100\n",
      "149/149 [==============================] - 3s 20ms/step - loss: 437.3553 - mse: 437.3553 - val_loss: 415.9720 - val_mse: 415.9720\n",
      "Epoch 60/100\n",
      "149/149 [==============================] - 3s 18ms/step - loss: 451.3953 - mse: 451.3953 - val_loss: 424.6439 - val_mse: 424.6439\n",
      "Epoch 61/100\n",
      "149/149 [==============================] - 3s 19ms/step - loss: 457.8800 - mse: 457.8800 - val_loss: 413.8992 - val_mse: 413.8992\n",
      "Epoch 62/100\n",
      "149/149 [==============================] - 3s 21ms/step - loss: 442.8027 - mse: 442.8027 - val_loss: 406.8105 - val_mse: 406.8105\n",
      "Epoch 63/100\n",
      "149/149 [==============================] - 3s 21ms/step - loss: 453.1326 - mse: 453.1326 - val_loss: 406.8532 - val_mse: 406.8532\n",
      "Epoch 64/100\n",
      "149/149 [==============================] - 3s 21ms/step - loss: 444.9656 - mse: 444.9656 - val_loss: 423.7178 - val_mse: 423.7178\n",
      "Epoch 65/100\n",
      "149/149 [==============================] - 3s 20ms/step - loss: 436.4382 - mse: 436.4382 - val_loss: 406.7875 - val_mse: 406.7875\n",
      "Epoch 66/100\n",
      "149/149 [==============================] - 3s 20ms/step - loss: 453.9724 - mse: 453.9724 - val_loss: 408.4366 - val_mse: 408.4366\n",
      "Epoch 67/100\n",
      "149/149 [==============================] - 3s 19ms/step - loss: 448.6357 - mse: 448.6357 - val_loss: 432.4460 - val_mse: 432.4460\n",
      "Epoch 68/100\n",
      "149/149 [==============================] - 3s 19ms/step - loss: 440.5602 - mse: 440.5602 - val_loss: 418.6665 - val_mse: 418.6665\n",
      "Epoch 69/100\n",
      "149/149 [==============================] - 3s 20ms/step - loss: 439.6904 - mse: 439.6904 - val_loss: 408.9783 - val_mse: 408.9783\n",
      "Epoch 70/100\n",
      "149/149 [==============================] - 3s 20ms/step - loss: 450.9901 - mse: 450.9901 - val_loss: 543.6827 - val_mse: 543.6827\n",
      "Epoch 71/100\n",
      "149/149 [==============================] - 3s 19ms/step - loss: 462.5408 - mse: 462.5408 - val_loss: 419.5209 - val_mse: 419.5209\n",
      "Epoch 72/100\n",
      "149/149 [==============================] - 3s 21ms/step - loss: 442.8216 - mse: 442.8216 - val_loss: 414.4662 - val_mse: 414.4662\n",
      "Epoch 73/100\n",
      "149/149 [==============================] - 3s 20ms/step - loss: 438.6048 - mse: 438.6048 - val_loss: 409.1152 - val_mse: 409.1152\n",
      "Epoch 74/100\n",
      "149/149 [==============================] - 3s 21ms/step - loss: 444.0888 - mse: 444.0888 - val_loss: 479.4053 - val_mse: 479.4053\n",
      "Epoch 75/100\n",
      "149/149 [==============================] - 3s 21ms/step - loss: 439.6352 - mse: 439.6352 - val_loss: 407.2528 - val_mse: 407.2528\n",
      "Epoch 76/100\n",
      "149/149 [==============================] - 3s 18ms/step - loss: 440.8193 - mse: 440.8193 - val_loss: 406.8975 - val_mse: 406.8975\n",
      "Epoch 77/100\n",
      "149/149 [==============================] - 3s 20ms/step - loss: 445.1530 - mse: 445.1530 - val_loss: 427.1355 - val_mse: 427.1355\n",
      "Epoch 78/100\n",
      "149/149 [==============================] - 3s 19ms/step - loss: 441.1675 - mse: 441.1675 - val_loss: 412.7451 - val_mse: 412.7451\n",
      "Epoch 79/100\n",
      "149/149 [==============================] - 3s 19ms/step - loss: 447.1062 - mse: 447.1062 - val_loss: 406.9419 - val_mse: 406.9419\n",
      "Epoch 80/100\n",
      "149/149 [==============================] - 3s 20ms/step - loss: 446.4401 - mse: 446.4401 - val_loss: 434.3828 - val_mse: 434.3828\n",
      "Epoch 81/100\n",
      "149/149 [==============================] - 3s 21ms/step - loss: 434.4937 - mse: 434.4937 - val_loss: 408.8141 - val_mse: 408.8141\n",
      "Epoch 82/100\n",
      "149/149 [==============================] - 3s 21ms/step - loss: 432.7138 - mse: 432.7138 - val_loss: 412.7278 - val_mse: 412.7278\n",
      "Epoch 83/100\n",
      "149/149 [==============================] - 3s 20ms/step - loss: 432.6794 - mse: 432.6794 - val_loss: 413.2729 - val_mse: 413.2729\n",
      "Epoch 84/100\n",
      "149/149 [==============================] - 3s 20ms/step - loss: 434.9922 - mse: 434.9922 - val_loss: 471.8191 - val_mse: 471.8191\n",
      "Epoch 85/100\n",
      "149/149 [==============================] - 3s 22ms/step - loss: 431.0217 - mse: 431.0217 - val_loss: 407.1075 - val_mse: 407.1075\n",
      "Epoch 86/100\n",
      "149/149 [==============================] - 3s 20ms/step - loss: 438.9821 - mse: 438.9821 - val_loss: 413.8211 - val_mse: 413.8211\n",
      "Epoch 87/100\n",
      "149/149 [==============================] - 3s 20ms/step - loss: 440.6526 - mse: 440.6526 - val_loss: 409.0674 - val_mse: 409.0674\n",
      "Epoch 88/100\n",
      "149/149 [==============================] - 3s 18ms/step - loss: 442.4780 - mse: 442.4780 - val_loss: 408.7563 - val_mse: 408.7563\n",
      "Epoch 89/100\n",
      "149/149 [==============================] - 3s 18ms/step - loss: 431.0542 - mse: 431.0542 - val_loss: 406.9733 - val_mse: 406.9733\n",
      "Epoch 90/100\n",
      "149/149 [==============================] - 3s 19ms/step - loss: 432.2449 - mse: 432.2449 - val_loss: 409.9408 - val_mse: 409.9408\n",
      "Epoch 91/100\n",
      "149/149 [==============================] - 3s 19ms/step - loss: 431.4823 - mse: 431.4823 - val_loss: 438.4463 - val_mse: 438.4463\n",
      "Epoch 92/100\n",
      "149/149 [==============================] - 3s 18ms/step - loss: 431.8614 - mse: 431.8614 - val_loss: 406.8209 - val_mse: 406.8209\n",
      "Epoch 93/100\n",
      "149/149 [==============================] - 3s 18ms/step - loss: 432.3660 - mse: 432.3660 - val_loss: 409.6174 - val_mse: 409.6174\n",
      "Epoch 94/100\n",
      "149/149 [==============================] - 3s 18ms/step - loss: 428.8509 - mse: 428.8509 - val_loss: 409.7572 - val_mse: 409.7572\n",
      "Epoch 95/100\n",
      "149/149 [==============================] - 3s 21ms/step - loss: 429.2904 - mse: 429.2904 - val_loss: 406.9647 - val_mse: 406.9647\n",
      "Epoch 96/100\n",
      "149/149 [==============================] - 3s 18ms/step - loss: 429.6309 - mse: 429.6309 - val_loss: 431.0488 - val_mse: 431.0488\n",
      "Epoch 97/100\n",
      "149/149 [==============================] - 3s 20ms/step - loss: 433.6801 - mse: 433.6801 - val_loss: 416.4895 - val_mse: 416.4895\n",
      "Epoch 98/100\n",
      "149/149 [==============================] - 3s 19ms/step - loss: 431.4886 - mse: 431.4886 - val_loss: 419.2602 - val_mse: 419.2602\n",
      "Epoch 99/100\n",
      "149/149 [==============================] - 3s 19ms/step - loss: 432.2949 - mse: 432.2949 - val_loss: 407.4056 - val_mse: 407.4056\n",
      "Epoch 100/100\n",
      "149/149 [==============================] - 3s 18ms/step - loss: 432.9210 - mse: 432.9210 - val_loss: 415.5530 - val_mse: 415.5530\n"
     ]
    }
   ],
   "source": [
    "history = model.fit(train_features, train_label, epochs=100, batch_size=64, validation_data=(validation_features, validation_label))"
   ]
  },
  {
   "cell_type": "code",
   "execution_count": 92,
   "metadata": {},
   "outputs": [
    {
     "data": {
      "image/png": "[encoded data removed]",
      "text/plain": [
       "<Figure size 432x288 with 1 Axes>"
      ]
     },
     "metadata": {
      "needs_background": "light"
     },
     "output_type": "display_data"
    },
    {
     "data": {
      "image/png": "[encoded data removed]",
      "text/plain": [
       "<Figure size 432x288 with 1 Axes>"
      ]
     },
     "metadata": {
      "needs_background": "light"
     },
     "output_type": "display_data"
    }
   ],
   "source": [
    "import matplotlib.pyplot as plt\n",
    "loss = history.history['loss']\n",
    "mse = history.history['mse']\n",
    "val_loss = history.history['val_loss']\n",
    "val_mse = history.history['val_mse']\n",
    "epochs = range(1, len(loss) + 1)\n",
    "plt.plot(epochs, loss, 'bo', label='Training loss')\n",
    "plt.plot(epochs, val_loss, 'b', label='Validation loss')\n",
    "plt.title('Training and validation loss')\n",
    "plt.legend()\n",
    "plt.figure()\n",
    "plt.plot(epochs, mse, 'bo', label='Training mse')\n",
    "plt.plot(epochs, val_mse, 'b', label='Validation mse')\n",
    "plt.title('Training and validation loss')\n",
    "plt.legend()\n",
    "plt.show()"
   ]
  },
  {
   "cell_type": "code",
   "execution_count": null,
   "metadata": {},
   "outputs": [],
   "source": []
  }
 ],
 "metadata": {
  "kernelspec": {
   "display_name": "Python 3 (ipykernel)",
   "language": "python",
   "name": "python3"
  },
  "language_info": {
   "codemirror_mode": {
    "name": "ipython",
    "version": 3
   },
   "file_extension": ".py",
   "mimetype": "text/x-python",
   "name": "python",
   "nbconvert_exporter": "python",
   "pygments_lexer": "ipython3",
   "version": "3.7.10"
  }
 },
 "nbformat": 4,
 "nbformat_minor": 4
}
