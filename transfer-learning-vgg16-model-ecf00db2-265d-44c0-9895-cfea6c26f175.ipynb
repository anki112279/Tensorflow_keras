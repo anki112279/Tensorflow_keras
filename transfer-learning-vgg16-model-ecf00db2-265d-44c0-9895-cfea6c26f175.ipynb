{
 "cells": [
  {
   "cell_type": "code",
   "execution_count": null,
   "metadata": {},
   "outputs": [],
   "source": [
    "\n",
    "# IMPORTANT: RUN THIS CELL IN ORDER TO IMPORT YOUR KAGGLE DATASETS\n",
    "# TO THE CORRECT LOCATION (/kaggle/input) IN YOUR NOTEBOOK,\n",
    "# THEN FEEL FREE TO DELETE CELL.\n",
    "\n",
    "import os\n",
    "import sys\n",
    "from tempfile import NamedTemporaryFile\n",
    "from urllib.request import urlopen\n",
    "from urllib.parse import unquote\n",
    "from urllib.error import HTTPError\n",
    "from zipfile import ZipFile\n",
    "\n",
    "CHUNK_SIZE = 40960\n",
    "DATASET_MAPPING = 'cat-and-dog:https%3A%2F%2Fstorage.googleapis.com%2Fkaggle-data-sets%2F23777%2F30378%2Fbundle%2Farchive.zip%3FX-Goog-Algorithm%3DGOOG4-RSA-SHA256%26X-Goog-Credential%3Dgcp-kaggle-com%2540kaggle-161607.iam.gserviceaccount.com%252F20211008%252Fauto%252Fstorage%252Fgoog4_request%26X-Goog-Date%3D20211008T005836Z%26X-Goog-Expires%3D259199%26X-Goog-SignedHeaders%3Dhost%26X-Goog-Signature%3D6d5ac87be7091ebfec99c7e39510a08281ad5241ac8ca9da28ca55094fd9a020b79aba85d1f94c900a92933fb60abedb1fde471b6d4e7c5d9d6eca26eb4361d9b11197d7733bdc93a48aabd56c980b1ac7549b38aae7df100fa1c549a352e0a2c454a703ca3d131078f50e13d06109001f60d163715c1b83df5aed159dda9813f2442c027385eb63b6010e181a04b95d4328353c0ca99fbd7de948e842ae11f9179a279dbe9db14d4df4fe0ee6889a421b0a663250139cc3f10ca38c2273365c27ae4fd9c579ad1183eb921cba9b9344e18d989a5f7912019df8ddc56d6a3f2099fe7ed21c197080be8786ae9bb72b00afb07fea3fa67ae2e682114c302d336f'\n",
    "KAGGLE_INPUT_PATH='/home/kaggle/input'\n",
    "KAGGLE_INPUT_SYMLINK='/kaggle'\n",
    "\n",
    "os.makedirs(KAGGLE_INPUT_PATH, 777)\n",
    "os.symlink(KAGGLE_INPUT_PATH, os.path.join('..', 'input'), target_is_directory=True)\n",
    "os.makedirs(KAGGLE_INPUT_SYMLINK)\n",
    "os.symlink(KAGGLE_INPUT_PATH, os.path.join(KAGGLE_INPUT_SYMLINK, 'input'), target_is_directory=True)\n",
    "\n",
    "for dataset_mapping in DATASET_MAPPING.split(','):\n",
    "    directory, download_url_encoded = dataset_mapping.split(':')\n",
    "    download_url = unquote(download_url_encoded)\n",
    "    destination_path = os.path.join(KAGGLE_INPUT_PATH, directory)\n",
    "    try:\n",
    "        with urlopen(download_url) as zipfileres, NamedTemporaryFile() as tfile:\n",
    "            total_length = zipfileres.headers['content-length']\n",
    "            print(f'Downloading {directory}, {total_length} bytes zipped')\n",
    "            dl = 0\n",
    "            data = zipfileres.read(CHUNK_SIZE)\n",
    "            while len(data) > 0:\n",
    "                dl += len(data)\n",
    "                tfile.write(data)\n",
    "                done = int(50 * dl / int(total_length))\n",
    "                sys.stdout.write(f\"\\r[{'=' * done}{' ' * (50-done)}] {dl} bytes downloaded\")\n",
    "                sys.stdout.flush()\n",
    "                data = zipfileres.read(CHUNK_SIZE)\n",
    "            print(f'\\nUnzipping {directory}')\n",
    "            with ZipFile(tfile) as zfile:\n",
    "                zfile.extractall(destination_path)\n",
    "    except HTTPError as e:\n",
    "        print(f'Failed to load (likely expired) {download_url} to path {destination_path}')\n",
    "        continue\n",
    "    except OSError as e:\n",
    "        print(f'Failed to load {download_url} to path {destination_path}')\n",
    "        continue\n",
    "print('Dataset import complete.')\n"
   ]
  },
  {
   "cell_type": "code",
   "execution_count": null,
   "metadata": {
    "_cell_guid": "b1076dfc-b9ad-4769-8c92-a6c4dae69d19",
    "_uuid": "8f2839f25d086af736a60e9eeb907d3b93b6e0e5",
    "execution": {
     "iopub.execute_input": "2021-10-07T22:38:42.867135Z",
     "iopub.status.busy": "2021-10-07T22:38:42.866774Z",
     "iopub.status.idle": "2021-10-07T22:38:48.829839Z",
     "shell.execute_reply": "2021-10-07T22:38:48.828785Z",
     "shell.execute_reply.started": "2021-10-07T22:38:42.867048Z"
    }
   },
   "outputs": [],
   "source": [
    "# This Python 3 environment comes with many helpful analytics libraries installed\n",
    "# It is defined by the kaggle/python Docker image: https://github.com/kaggle/docker-python\n",
    "# For example, here's several helpful packages to load\n",
    "\n",
    "import numpy as np # linear algebra\n",
    "import pandas as pd # data processing, CSV file I/O (e.g. pd.read_csv)\n",
    "\n",
    "# Input data files are available in the read-only \"../input/\" directory\n",
    "# For example, running this (by clicking run or pressing Shift+Enter) will list all files under the input directory\n",
    "import os, shutil\n",
    "from tensorflow import keras\n",
    "from tensorflow.keras import layers\n",
    "from tensorflow.keras import utils\n",
    "import matplotlib.pyplot as plt\n",
    "from tensorflow.keras import optimizers\n",
    "from tensorflow.keras.preprocessing.image import ImageDataGenerator\n",
    "import matplotlib.image as mpimg\n",
    "import os\n",
    "for dirname, _, filenames in os.walk('/kaggle/input'):\n",
    "    for filename in filenames:\n",
    "        print(os.path.join(dirname, filename))\n",
    "\n",
    "# You can write up to 20GB to the current directory (/kaggle/working/) that gets preserved as output when you create a version using \"Save & Run All\" \n",
    "# You can also write temporary files to /kaggle/temp/, but they won't be saved outside of the current session"
   ]
  },
  {
   "cell_type": "code",
   "execution_count": null,
   "metadata": {
    "execution": {
     "iopub.execute_input": "2021-10-07T23:36:23.111744Z",
     "iopub.status.busy": "2021-10-07T23:36:23.109726Z",
     "iopub.status.idle": "2021-10-07T23:36:23.116143Z",
     "shell.execute_reply": "2021-10-07T23:36:23.114968Z",
     "shell.execute_reply.started": "2021-10-07T23:36:23.11169Z"
    }
   },
   "outputs": [],
   "source": [
    "original_dataset_dir = '/kaggle/input/cat-and-dog/'"
   ]
  },
  {
   "cell_type": "code",
   "execution_count": null,
   "metadata": {
    "execution": {
     "iopub.execute_input": "2021-10-07T22:44:36.495585Z",
     "iopub.status.busy": "2021-10-07T22:44:36.495204Z",
     "iopub.status.idle": "2021-10-07T22:44:37.629645Z",
     "shell.execute_reply": "2021-10-07T22:44:37.628586Z",
     "shell.execute_reply.started": "2021-10-07T22:44:36.495546Z"
    }
   },
   "outputs": [],
   "source": [
    "#Instatntied VGG16 model \n",
    "\n",
    "from tensorflow.keras.applications import VGG16\n",
    "conv_base = VGG16(weights='imagenet',\n",
    "include_top=False,\n",
    "input_shape=(150, 150, 3))"
   ]
  },
  {
   "cell_type": "code",
   "execution_count": null,
   "metadata": {
    "execution": {
     "iopub.execute_input": "2021-10-07T22:44:46.403357Z",
     "iopub.status.busy": "2021-10-07T22:44:46.402999Z",
     "iopub.status.idle": "2021-10-07T22:44:46.421014Z",
     "shell.execute_reply": "2021-10-07T22:44:46.419692Z",
     "shell.execute_reply.started": "2021-10-07T22:44:46.403327Z"
    }
   },
   "outputs": [],
   "source": [
    "conv_base.summary()"
   ]
  },
  {
   "cell_type": "code",
   "execution_count": null,
   "metadata": {
    "execution": {
     "iopub.execute_input": "2021-10-07T22:54:54.64072Z",
     "iopub.status.busy": "2021-10-07T22:54:54.63959Z",
     "iopub.status.idle": "2021-10-07T22:54:54.645082Z",
     "shell.execute_reply": "2021-10-07T22:54:54.644182Z",
     "shell.execute_reply.started": "2021-10-07T22:54:54.640677Z"
    }
   },
   "outputs": [],
   "source": [
    "#Create directory to separate train and validation images\n",
    "#original_dataset_dir = '/kaggle/input/petfinder-pawpularity-score/'\n",
    "base_dir = '/kaggle/petfinder-pawpularity-score-small/'\n",
    "os.mkdir(base_dir)"
   ]
  },
  {
   "cell_type": "code",
   "execution_count": null,
   "metadata": {
    "execution": {
     "iopub.execute_input": "2021-10-07T22:54:57.413983Z",
     "iopub.status.busy": "2021-10-07T22:54:57.413683Z",
     "iopub.status.idle": "2021-10-07T22:54:57.420337Z",
     "shell.execute_reply": "2021-10-07T22:54:57.419501Z",
     "shell.execute_reply.started": "2021-10-07T22:54:57.413953Z"
    }
   },
   "outputs": [],
   "source": [
    "#Creating train,test and validation directory\n",
    "train_dir = os.path.join(base_dir, 'train')\n",
    "os.mkdir(train_dir)\n",
    "validation_dir = os.path.join(base_dir, 'validation')\n",
    "os.mkdir(validation_dir)\n",
    "test_dir = os.path.join(base_dir, 'test')\n",
    "os.mkdir(test_dir)"
   ]
  },
  {
   "cell_type": "code",
   "execution_count": null,
   "metadata": {
    "execution": {
     "iopub.execute_input": "2021-10-07T23:36:15.3679Z",
     "iopub.status.busy": "2021-10-07T23:36:15.367592Z",
     "iopub.status.idle": "2021-10-07T23:36:15.378857Z",
     "shell.execute_reply": "2021-10-07T23:36:15.377778Z",
     "shell.execute_reply.started": "2021-10-07T23:36:15.367866Z"
    }
   },
   "outputs": [],
   "source": [
    "train_cats_dir = os.path.join(train_dir, 'cats')\n",
    "os.mkdir(train_cats_dir)\n",
    "train_dogs_dir = os.path.join(train_dir, 'dogs')\n",
    "os.mkdir(train_dogs_dir)\n",
    "validation_cats_dir = os.path.join(validation_dir, 'cats')\n",
    "os.mkdir(validation_cats_dir)\n",
    "validation_dogs_dir = os.path.join(validation_dir, 'dogs')\n",
    "os.mkdir(validation_dogs_dir)\n",
    "test_cats_dir = os.path.join(test_dir, 'cats')\n",
    "os.mkdir(test_cats_dir)\n",
    "test_dogs_dir = os.path.join(test_dir, 'dogs')\n",
    "os.mkdir(test_dogs_dir)"
   ]
  },
  {
   "cell_type": "code",
   "execution_count": null,
   "metadata": {
    "execution": {
     "iopub.execute_input": "2021-10-07T23:36:33.575907Z",
     "iopub.status.busy": "2021-10-07T23:36:33.575202Z",
     "iopub.status.idle": "2021-10-07T23:36:41.289118Z",
     "shell.execute_reply": "2021-10-07T23:36:41.288126Z",
     "shell.execute_reply.started": "2021-10-07T23:36:33.57587Z"
    }
   },
   "outputs": [],
   "source": [
    "#Creating cat dataset\n",
    "fnames = ['cat.{}.jpg'.format(i) for i in range(1, 1001)]\n",
    "for fname in fnames:\n",
    "    src = os.path.join(original_dataset_dir+'training_set/training_set/cats/', fname)\n",
    "    dst = os.path.join(train_cats_dir, fname)\n",
    "    shutil.copyfile(src, dst)\n",
    "fnames = ['cat.{}.jpg'.format(i) for i in range(1001, 1501)]\n",
    "for fname in fnames:\n",
    "    src = os.path.join(original_dataset_dir+'training_set/training_set/cats/', fname)\n",
    "    dst = os.path.join(validation_cats_dir, fname)\n",
    "    shutil.copyfile(src, dst)\n",
    "fnames = ['cat.{}.jpg'.format(i) for i in range(4001, 4501)]\n",
    "for fname in fnames:\n",
    "    src = os.path.join(original_dataset_dir+'test_set/test_set/cats/', fname)\n",
    "    dst = os.path.join(test_cats_dir, fname)\n",
    "    shutil.copyfile(src, dst)"
   ]
  },
  {
   "cell_type": "code",
   "execution_count": null,
   "metadata": {
    "execution": {
     "iopub.execute_input": "2021-10-07T23:36:41.290898Z",
     "iopub.status.busy": "2021-10-07T23:36:41.290652Z",
     "iopub.status.idle": "2021-10-07T23:36:48.478995Z",
     "shell.execute_reply": "2021-10-07T23:36:48.477899Z",
     "shell.execute_reply.started": "2021-10-07T23:36:41.290872Z"
    }
   },
   "outputs": [],
   "source": [
    "#Creating dog dataset\n",
    "fnames = ['dog.{}.jpg'.format(i) for i in range(1, 1001)]\n",
    "for fname in fnames:\n",
    "    src = os.path.join(original_dataset_dir+'training_set/training_set/dogs/', fname)\n",
    "    dst = os.path.join(train_dogs_dir, fname)\n",
    "    shutil.copyfile(src, dst)\n",
    "fnames = ['dog.{}.jpg'.format(i) for i in range(1001, 1501)]\n",
    "for fname in fnames:\n",
    "    src = os.path.join(original_dataset_dir+'training_set/training_set/dogs/', fname)\n",
    "    dst = os.path.join(validation_dogs_dir, fname)\n",
    "    shutil.copyfile(src, dst)\n",
    "fnames = ['dog.{}.jpg'.format(i) for i in range(4001, 4501)]\n",
    "for fname in fnames:\n",
    "    src = os.path.join(original_dataset_dir+'test_set/test_set/dogs/', fname)\n",
    "    dst = os.path.join(test_dogs_dir, fname)\n",
    "    shutil.copyfile(src, dst)"
   ]
  },
  {
   "cell_type": "code",
   "execution_count": null,
   "metadata": {
    "execution": {
     "iopub.execute_input": "2021-10-07T23:56:50.546662Z",
     "iopub.status.busy": "2021-10-07T23:56:50.545821Z",
     "iopub.status.idle": "2021-10-07T23:56:50.556496Z",
     "shell.execute_reply": "2021-10-07T23:56:50.555487Z",
     "shell.execute_reply.started": "2021-10-07T23:56:50.54662Z"
    }
   },
   "outputs": [],
   "source": [
    "#Validating the images in each cat dataset\n",
    "print('total training cat images:', len(os.listdir(train_cats_dir)))\n",
    "print('total validation cat images:', len(os.listdir(validation_cats_dir)))\n",
    "print('total test cat images:', len(os.listdir(test_cats_dir)))"
   ]
  },
  {
   "cell_type": "code",
   "execution_count": null,
   "metadata": {
    "execution": {
     "iopub.execute_input": "2021-10-07T23:54:56.074859Z",
     "iopub.status.busy": "2021-10-07T23:54:56.07443Z",
     "iopub.status.idle": "2021-10-07T23:54:56.079206Z",
     "shell.execute_reply": "2021-10-07T23:54:56.078196Z",
     "shell.execute_reply.started": "2021-10-07T23:54:56.074815Z"
    }
   },
   "outputs": [],
   "source": [
    "datagen = ImageDataGenerator(rescale=1./255)"
   ]
  },
  {
   "cell_type": "code",
   "execution_count": null,
   "metadata": {
    "execution": {
     "iopub.execute_input": "2021-10-08T00:05:23.151881Z",
     "iopub.status.busy": "2021-10-08T00:05:23.151153Z",
     "iopub.status.idle": "2021-10-08T00:05:23.160946Z",
     "shell.execute_reply": "2021-10-08T00:05:23.159749Z",
     "shell.execute_reply.started": "2021-10-08T00:05:23.151835Z"
    }
   },
   "outputs": [],
   "source": [
    "def extract_features(directory, sample_count):\n",
    "    features = np.zeros(shape = (sample_count, 4,4, 512) )\n",
    "    labels = np.zeros(shape = (sample_count))\n",
    "    generator = datagen.flow_from_directory(\n",
    "        directory,\n",
    "        target_size=(150, 150),\n",
    "        batch_size=20,\n",
    "        class_mode='binary')\n",
    "    i = 0 \n",
    "    for input_batch , labels_batch  in generator:\n",
    "        features_batch = conv_base.predict(input_batch)\n",
    "        features[i*batch_size: (i+1)*batch_size] = features_batch\n",
    "        labels[i*batch_size:(i+1)*batch_size] = labels_batch\n",
    "        i+=1\n",
    "        if i*batch_size>=sample_count:\n",
    "            break\n",
    "    return features, labels"
   ]
  },
  {
   "cell_type": "code",
   "execution_count": null,
   "metadata": {
    "execution": {
     "iopub.execute_input": "2021-10-08T00:26:56.249888Z",
     "iopub.status.busy": "2021-10-08T00:26:56.249584Z",
     "iopub.status.idle": "2021-10-08T00:30:54.299329Z",
     "shell.execute_reply": "2021-10-08T00:30:54.29782Z",
     "shell.execute_reply.started": "2021-10-08T00:26:56.249857Z"
    }
   },
   "outputs": [],
   "source": [
    "train_features, train_labels = extract_features(train_dir, 1000)\n",
    "validation_features, validation_labels = extract_features(validation_dir, 500)\n",
    "test_features, test_labels = extract_features(test_dir, 500)"
   ]
  },
  {
   "cell_type": "code",
   "execution_count": null,
   "metadata": {
    "execution": {
     "iopub.execute_input": "2021-10-08T00:30:54.30208Z",
     "iopub.status.busy": "2021-10-08T00:30:54.301804Z",
     "iopub.status.idle": "2021-10-08T00:30:54.30799Z",
     "shell.execute_reply": "2021-10-08T00:30:54.307366Z",
     "shell.execute_reply.started": "2021-10-08T00:30:54.302054Z"
    }
   },
   "outputs": [],
   "source": [
    "train_features.shape"
   ]
  },
  {
   "cell_type": "code",
   "execution_count": null,
   "metadata": {
    "execution": {
     "iopub.execute_input": "2021-10-08T00:38:22.861551Z",
     "iopub.status.busy": "2021-10-08T00:38:22.86125Z",
     "iopub.status.idle": "2021-10-08T00:38:22.867805Z",
     "shell.execute_reply": "2021-10-08T00:38:22.866605Z",
     "shell.execute_reply.started": "2021-10-08T00:38:22.861525Z"
    }
   },
   "outputs": [],
   "source": [
    "train_features = np.reshape(train_features, (1000, 4 * 4 * 512))\n",
    "validation_features = np.reshape(validation_features, (500, 4 * 4 * 512))\n",
    "test_features = np.reshape(test_features, (500, 4 * 4 * 512))"
   ]
  },
  {
   "cell_type": "code",
   "execution_count": null,
   "metadata": {
    "execution": {
     "iopub.execute_input": "2021-10-08T00:38:35.401526Z",
     "iopub.status.busy": "2021-10-08T00:38:35.401243Z",
     "iopub.status.idle": "2021-10-08T00:38:35.449942Z",
     "shell.execute_reply": "2021-10-08T00:38:35.448933Z",
     "shell.execute_reply.started": "2021-10-08T00:38:35.4015Z"
    }
   },
   "outputs": [],
   "source": [
    "model = keras.Sequential(([\n",
    "    layers.Dense(256, activation='relu', input_dim=4 * 4 * 512), \n",
    "    layers.Dropout(0.5),\n",
    "    layers.Dense(1, activation='sigmoid')]))\n",
    "    "
   ]
  },
  {
   "cell_type": "code",
   "execution_count": null,
   "metadata": {
    "execution": {
     "iopub.execute_input": "2021-10-08T00:38:37.885593Z",
     "iopub.status.busy": "2021-10-08T00:38:37.885311Z",
     "iopub.status.idle": "2021-10-08T00:38:37.901541Z",
     "shell.execute_reply": "2021-10-08T00:38:37.900529Z",
     "shell.execute_reply.started": "2021-10-08T00:38:37.885567Z"
    }
   },
   "outputs": [],
   "source": [
    "model.compile(optimizer=optimizers.RMSprop(lr=2e-5),\n",
    "    loss='binary_crossentropy',\n",
    "    metrics=['acc'])"
   ]
  },
  {
   "cell_type": "code",
   "execution_count": null,
   "metadata": {
    "execution": {
     "iopub.execute_input": "2021-10-08T00:38:39.714364Z",
     "iopub.status.busy": "2021-10-08T00:38:39.714044Z",
     "iopub.status.idle": "2021-10-08T00:38:59.103288Z",
     "shell.execute_reply": "2021-10-08T00:38:59.101598Z",
     "shell.execute_reply.started": "2021-10-08T00:38:39.714336Z"
    }
   },
   "outputs": [],
   "source": [
    "history = model.fit(train_features, train_labels, epochs = 30, batch_size = 30, \n",
    "                   validation_data = (validation_features, validation_labels))"
   ]
  },
  {
   "cell_type": "code",
   "execution_count": null,
   "metadata": {
    "execution": {
     "iopub.execute_input": "2021-10-08T00:41:05.670099Z",
     "iopub.status.busy": "2021-10-08T00:41:05.66907Z",
     "iopub.status.idle": "2021-10-08T00:41:06.15791Z",
     "shell.execute_reply": "2021-10-08T00:41:06.155924Z",
     "shell.execute_reply.started": "2021-10-08T00:41:05.670055Z"
    }
   },
   "outputs": [],
   "source": [
    "acc = history.history['acc']\n",
    "val_acc = history.history['val_acc']\n",
    "loss = history.history['loss']\n",
    "val_loss = history.history['val_loss']\n",
    "epochs = range(1, len(acc) + 1)\n",
    "plt.plot(epochs, acc, 'bo', label='Training acc')\n",
    "plt.plot(epochs, val_acc, 'b', label='Validation acc')\n",
    "plt.title('Training and validation accuracy')\n",
    "plt.legend()\n",
    "plt.figure()\n",
    "plt.plot(epochs, loss, 'bo', label='Training loss')\n",
    "plt.plot(epochs, val_loss, 'b', label='Validation loss')\n",
    "plt.title('Training and validation loss')\n",
    "plt.legend()\n",
    "plt.show()"
   ]
  }
 ],
 "metadata": {
  "kernelspec": {
   "display_name": "Python 3 (ipykernel)",
   "language": "python",
   "name": "python3"
  },
  "language_info": {
   "codemirror_mode": {
    "name": "ipython",
    "version": 3
   },
   "file_extension": ".py",
   "mimetype": "text/x-python",
   "name": "python",
   "nbconvert_exporter": "python",
   "pygments_lexer": "ipython3",
   "version": "3.7.10"
  }
 },
 "nbformat": 4,
 "nbformat_minor": 4
}
